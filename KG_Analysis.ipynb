{
 "cells": [
  {
   "cell_type": "code",
   "execution_count": 1,
   "id": "1f1af16c-49de-45cd-ba17-845b2c1215fa",
   "metadata": {},
   "outputs": [],
   "source": [
    "import pandas as pd\n",
    "import os,sys\n",
    "import networkx as nx\n",
    "\n",
    "import pandas as pd\n",
    "from os.path import join as opj\n",
    "from tqdm import tqdm\n",
    "\n",
    "import numpy as np\n",
    "from itertools import chain\n",
    "import pickle\n",
    "\n",
    "import gensim\n",
    "import random\n",
    "import multiprocessing\n",
    "from collections import defaultdict\n",
    "from matplotlib import pyplot as plt\n",
    "from collections import Counter\n",
    "import seaborn as sns\n",
    "import itertools"
   ]
  },
  {
   "cell_type": "code",
   "execution_count": 2,
   "id": "e3be8e46-1b89-4b57-99ad-afce5e52c815",
   "metadata": {},
   "outputs": [],
   "source": [
    "rebel_rels = pd.read_pickle('./data/REBEL/arxiv/arxiv_main_graph.pickle')\n",
    "pfn_rels = pd.read_pickle('./data/PFN/arxiv/extracted_rels_arxiv.pickle')"
   ]
  },
  {
   "cell_type": "code",
   "execution_count": 180,
   "id": "30ab356c-8d44-43ae-b9ab-fcf3c4d5b638",
   "metadata": {},
   "outputs": [
    {
     "data": {
      "text/html": [
       "<div>\n",
       "<style scoped>\n",
       "    .dataframe tbody tr th:only-of-type {\n",
       "        vertical-align: middle;\n",
       "    }\n",
       "\n",
       "    .dataframe tbody tr th {\n",
       "        vertical-align: top;\n",
       "    }\n",
       "\n",
       "    .dataframe thead th {\n",
       "        text-align: right;\n",
       "    }\n",
       "</style>\n",
       "<table border=\"1\" class=\"dataframe\">\n",
       "  <thead>\n",
       "    <tr style=\"text-align: right;\">\n",
       "      <th></th>\n",
       "      <th>edge</th>\n",
       "      <th>source</th>\n",
       "      <th>target</th>\n",
       "    </tr>\n",
       "  </thead>\n",
       "  <tbody>\n",
       "    <tr>\n",
       "      <th>0</th>\n",
       "      <td>has part</td>\n",
       "      <td>2d field theory</td>\n",
       "      <td>2d one</td>\n",
       "    </tr>\n",
       "    <tr>\n",
       "      <th>1</th>\n",
       "      <td>part of</td>\n",
       "      <td>2d one</td>\n",
       "      <td>2d field theory</td>\n",
       "    </tr>\n",
       "    <tr>\n",
       "      <th>2</th>\n",
       "      <td>facet of</td>\n",
       "      <td>original model</td>\n",
       "      <td>scale invariant theory</td>\n",
       "    </tr>\n",
       "    <tr>\n",
       "      <th>3</th>\n",
       "      <td>subclass of</td>\n",
       "      <td>2d conformal model</td>\n",
       "      <td>conformal model</td>\n",
       "    </tr>\n",
       "    <tr>\n",
       "      <th>4</th>\n",
       "      <td>subclass of</td>\n",
       "      <td>noise free KPZ equation</td>\n",
       "      <td>reaction diffusion equation</td>\n",
       "    </tr>\n",
       "    <tr>\n",
       "      <th>...</th>\n",
       "      <td>...</td>\n",
       "      <td>...</td>\n",
       "      <td>...</td>\n",
       "    </tr>\n",
       "    <tr>\n",
       "      <th>1277531</th>\n",
       "      <td>facet of</td>\n",
       "      <td>shot capability</td>\n",
       "      <td>system</td>\n",
       "    </tr>\n",
       "    <tr>\n",
       "      <th>1277532</th>\n",
       "      <td>subclass of</td>\n",
       "      <td>adversarial training problem</td>\n",
       "      <td>meta learning</td>\n",
       "    </tr>\n",
       "    <tr>\n",
       "      <th>1277533</th>\n",
       "      <td>use</td>\n",
       "      <td>generator</td>\n",
       "      <td>training</td>\n",
       "    </tr>\n",
       "    <tr>\n",
       "      <th>1277534</th>\n",
       "      <td>use</td>\n",
       "      <td>discriminator</td>\n",
       "      <td>training</td>\n",
       "    </tr>\n",
       "    <tr>\n",
       "      <th>1277535</th>\n",
       "      <td>uses</td>\n",
       "      <td>portrait painting</td>\n",
       "      <td>talking head model</td>\n",
       "    </tr>\n",
       "  </tbody>\n",
       "</table>\n",
       "<p>1277536 rows × 3 columns</p>\n",
       "</div>"
      ],
      "text/plain": [
       "                edge                        source  \\\n",
       "0           has part               2d field theory   \n",
       "1            part of                        2d one   \n",
       "2           facet of                original model   \n",
       "3        subclass of            2d conformal model   \n",
       "4        subclass of       noise free KPZ equation   \n",
       "...              ...                           ...   \n",
       "1277531     facet of               shot capability   \n",
       "1277532  subclass of  adversarial training problem   \n",
       "1277533          use                     generator   \n",
       "1277534          use                 discriminator   \n",
       "1277535         uses             portrait painting   \n",
       "\n",
       "                              target  \n",
       "0                             2d one  \n",
       "1                    2d field theory  \n",
       "2             scale invariant theory  \n",
       "3                    conformal model  \n",
       "4        reaction diffusion equation  \n",
       "...                              ...  \n",
       "1277531                       system  \n",
       "1277532                meta learning  \n",
       "1277533                     training  \n",
       "1277534                     training  \n",
       "1277535           talking head model  \n",
       "\n",
       "[1277536 rows x 3 columns]"
      ]
     },
     "execution_count": 180,
     "metadata": {},
     "output_type": "execute_result"
    }
   ],
   "source": [
    "rebel_rels"
   ]
  },
  {
   "cell_type": "code",
   "execution_count": 181,
   "id": "3a9dfeba-0f15-401d-bf77-7983b386e22f",
   "metadata": {},
   "outputs": [
    {
     "data": {
      "text/html": [
       "<div>\n",
       "<style scoped>\n",
       "    .dataframe tbody tr th:only-of-type {\n",
       "        vertical-align: middle;\n",
       "    }\n",
       "\n",
       "    .dataframe tbody tr th {\n",
       "        vertical-align: top;\n",
       "    }\n",
       "\n",
       "    .dataframe thead th {\n",
       "        text-align: right;\n",
       "    }\n",
       "</style>\n",
       "<table border=\"1\" class=\"dataframe\">\n",
       "  <thead>\n",
       "    <tr style=\"text-align: right;\">\n",
       "      <th></th>\n",
       "      <th>source</th>\n",
       "      <th>target</th>\n",
       "      <th>edge</th>\n",
       "    </tr>\n",
       "  </thead>\n",
       "  <tbody>\n",
       "    <tr>\n",
       "      <th>4</th>\n",
       "      <td>categorical form</td>\n",
       "      <td>structure</td>\n",
       "      <td>Feature-of</td>\n",
       "    </tr>\n",
       "    <tr>\n",
       "      <th>6</th>\n",
       "      <td>approach</td>\n",
       "      <td>quantization of causal sites</td>\n",
       "      <td>Used-for</td>\n",
       "    </tr>\n",
       "    <tr>\n",
       "      <th>7</th>\n",
       "      <td>projective threespace</td>\n",
       "      <td>smooth quartic surface</td>\n",
       "      <td>Feature-of</td>\n",
       "    </tr>\n",
       "    <tr>\n",
       "      <th>10</th>\n",
       "      <td>object detector</td>\n",
       "      <td>bootstrap particle filter PF</td>\n",
       "      <td>Used-for</td>\n",
       "    </tr>\n",
       "    <tr>\n",
       "      <th>21</th>\n",
       "      <td>algorithm</td>\n",
       "      <td>alternatives</td>\n",
       "      <td>Compare</td>\n",
       "    </tr>\n",
       "    <tr>\n",
       "      <th>...</th>\n",
       "      <td>...</td>\n",
       "      <td>...</td>\n",
       "      <td>...</td>\n",
       "    </tr>\n",
       "    <tr>\n",
       "      <th>1098582</th>\n",
       "      <td>throughput</td>\n",
       "      <td>resource bounds</td>\n",
       "      <td>Conjunction</td>\n",
       "    </tr>\n",
       "    <tr>\n",
       "      <th>1098592</th>\n",
       "      <td>minimal latency</td>\n",
       "      <td>baselines</td>\n",
       "      <td>Evaluate-for</td>\n",
       "    </tr>\n",
       "    <tr>\n",
       "      <th>1098593</th>\n",
       "      <td>minimal latency</td>\n",
       "      <td>resource bounds</td>\n",
       "      <td>Conjunction</td>\n",
       "    </tr>\n",
       "    <tr>\n",
       "      <th>1098604</th>\n",
       "      <td>query level accuracy</td>\n",
       "      <td>baselines</td>\n",
       "      <td>Evaluate-for</td>\n",
       "    </tr>\n",
       "    <tr>\n",
       "      <th>1098605</th>\n",
       "      <td>query level accuracy</td>\n",
       "      <td>resource bounds</td>\n",
       "      <td>Conjunction</td>\n",
       "    </tr>\n",
       "  </tbody>\n",
       "</table>\n",
       "<p>1106355 rows × 3 columns</p>\n",
       "</div>"
      ],
      "text/plain": [
       "                        source                        target          edge\n",
       "4             categorical form                     structure    Feature-of\n",
       "6                     approach  quantization of causal sites      Used-for\n",
       "7        projective threespace        smooth quartic surface    Feature-of\n",
       "10             object detector  bootstrap particle filter PF      Used-for\n",
       "21                   algorithm                  alternatives       Compare\n",
       "...                        ...                           ...           ...\n",
       "1098582             throughput               resource bounds   Conjunction\n",
       "1098592        minimal latency                     baselines  Evaluate-for\n",
       "1098593        minimal latency               resource bounds   Conjunction\n",
       "1098604   query level accuracy                     baselines  Evaluate-for\n",
       "1098605   query level accuracy               resource bounds   Conjunction\n",
       "\n",
       "[1106355 rows x 3 columns]"
      ]
     },
     "execution_count": 181,
     "metadata": {},
     "output_type": "execute_result"
    }
   ],
   "source": [
    "pfn_rels"
   ]
  },
  {
   "cell_type": "markdown",
   "id": "33df3f32-5601-40e8-9d50-2b4efb46b37f",
   "metadata": {},
   "source": [
    "# Analysis\n",
    "## a. Most frequent relations "
   ]
  },
  {
   "cell_type": "code",
   "execution_count": null,
   "id": "10389ffd-39c5-4b94-8719-e1aa0834a4ad",
   "metadata": {},
   "outputs": [],
   "source": [
    "pfn_rel"
   ]
  },
  {
   "cell_type": "markdown",
   "id": "607013c4-0594-4566-b903-2923881cb89c",
   "metadata": {},
   "source": [
    "## b. Relations distribution"
   ]
  },
  {
   "cell_type": "code",
   "execution_count": 29,
   "id": "a962656c-f6d7-4a7d-bd7a-dbd7eed54e7c",
   "metadata": {},
   "outputs": [],
   "source": [
    "def get_relation_value_counts(data):\n",
    "    unique_relation_types_counter = dict(Counter(data))\n",
    "    unique_relation_types_vc = dict(sorted(unique_relation_types_counter.items(), key=lambda t: t[1], reverse=True))\n",
    "    return unique_relation_types_vc"
   ]
  },
  {
   "cell_type": "code",
   "execution_count": 30,
   "id": "38d3bab0-e823-427e-91f3-644e1afbdd36",
   "metadata": {},
   "outputs": [],
   "source": [
    "def plot_dist(data, title='PFN: Realtions distribution', xlabel='Relation type', ylabel='# of relations', top_n=20):\n",
    "    plt.figure(figsize=(13, 7))# (16, 12))\n",
    "    data = dict(itertools.islice(data.items(), top_n))\n",
    "    sns.barplot(x=list(data.keys()), y=list(data.values()))\n",
    "    plt.xticks(rotation=85, fontsize=14)\n",
    "    plt.title(title)\n",
    "    plt.xlabel(xlabel)\n",
    "    plt.ylabel(ylabel)\n",
    "    plt.show()"
   ]
  },
  {
   "cell_type": "markdown",
   "id": "ab7f6964-88e5-4254-9184-c142477a7f37",
   "metadata": {},
   "source": [
    "### PFN method"
   ]
  },
  {
   "cell_type": "code",
   "execution_count": 31,
   "id": "52fa208b-59af-4ecf-b8f6-f270b4168239",
   "metadata": {},
   "outputs": [],
   "source": [
    "pfn_relation_types_vc = get_relation_value_counts(pfn_rels.edge)"
   ]
  },
  {
   "cell_type": "code",
   "execution_count": 204,
   "id": "1ac1f2f5-7908-44c1-a5eb-41a7ae01ef9f",
   "metadata": {},
   "outputs": [
    {
     "data": {
      "image/png": "[encoded data removed]",
      "text/plain": [
       "<Figure size 936x504 with 1 Axes>"
      ]
     },
     "metadata": {
      "needs_background": "light"
     },
     "output_type": "display_data"
    }
   ],
   "source": [
    "plot_dist(data=pfn_relation_types_vc, title='PFN: Realtions distribution', xlabel='Relation type', ylabel='# of relations')"
   ]
  },
  {
   "cell_type": "markdown",
   "id": "7fb4a3d7-a1f6-4b22-b051-e3e31e665fcd",
   "metadata": {},
   "source": [
    "### REBEL"
   ]
  },
  {
   "cell_type": "code",
   "execution_count": 32,
   "id": "5a1c73ec-897f-4e05-ae3c-426981928e57",
   "metadata": {},
   "outputs": [],
   "source": [
    "rebel_relation_types_vc = get_relation_value_counts(rebel_rels.edge)"
   ]
  },
  {
   "cell_type": "code",
   "execution_count": 253,
   "id": "0e59d934-7199-487a-adb8-cee4046ccce1",
   "metadata": {},
   "outputs": [
    {
     "data": {
      "image/png": "[encoded data removed]",
      "text/plain": [
       "<Figure size 936x504 with 1 Axes>"
      ]
     },
     "metadata": {
      "needs_background": "light"
     },
     "output_type": "display_data"
    }
   ],
   "source": [
    "plot_dist(data=rebel_relation_types_vc, title='REBEL: Realtions distribution', xlabel='Relation type', ylabel='# of relations', top_n=25)"
   ]
  },
  {
   "cell_type": "markdown",
   "id": "f4fae80c-02ea-45d9-a625-d521fabb2d1c",
   "metadata": {},
   "source": [
    "## c. Hub vertices across "
   ]
  },
  {
   "cell_type": "markdown",
   "id": "ec584aab-defb-4bd3-9c0c-237f075a546c",
   "metadata": {},
   "source": [
    "### PFN"
   ]
  },
  {
   "cell_type": "code",
   "execution_count": 33,
   "id": "5faa534d-d461-4c3b-986f-0df4149c7bf4",
   "metadata": {},
   "outputs": [],
   "source": [
    "def get_entity_value_counts(data):\n",
    "    unique_entity_counter = dict(Counter(data))\n",
    "    unique_entity_vc = dict(sorted(unique_entity_counter.items(), key=lambda t: t[1], reverse=True))\n",
    "    return unique_entity_vc"
   ]
  },
  {
   "cell_type": "code",
   "execution_count": 34,
   "id": "9fe13b94-97c2-4d5d-a060-123ad94af884",
   "metadata": {},
   "outputs": [],
   "source": [
    "pfn_source_entity_vc = get_entity_value_counts(pfn_rels.source)"
   ]
  },
  {
   "cell_type": "code",
   "execution_count": 45,
   "id": "2073cfcd-53f6-4b52-9732-6be9a762d5b6",
   "metadata": {},
   "outputs": [],
   "source": [
    "# postprocessing: \n",
    "source_keys_to_unite_pfn = {'methods': 'method', 'approaches': 'approach', 'techniques': 'technique', 'It': 'it', 'models': 'model', 'algorithms': 'algorithm', 'datasets': 'dataset'}\n",
    "for k, v in source_keys_to_unite_pfn.items():\n",
    "    pfn_source_entity_vc[v] += pfn_source_entity_vc[k]\n",
    "    del pfn_source_entity_vc[k]\n",
    "pfn_source_entity_vc = dict(sorted(pfn_source_entity_vc.items(), key=lambda t: t[1], reverse=True))\n"
   ]
  },
  {
   "cell_type": "code",
   "execution_count": 46,
   "id": "763b0212-6f00-47bd-9801-68ddf48971f1",
   "metadata": {},
   "outputs": [
    {
     "data": {
      "image/png": "[encoded data removed]",
      "text/plain": [
       "<Figure size 936x504 with 1 Axes>"
      ]
     },
     "metadata": {
      "needs_background": "light"
     },
     "output_type": "display_data"
    }
   ],
   "source": [
    "plot_dist(data=pfn_source_entity_vc, title='PFN: Source entity distribution', xlabel='Source entity', ylabel='Degree', top_n=25)"
   ]
  },
  {
   "cell_type": "code",
   "execution_count": 47,
   "id": "8d4377e2-600b-4d04-8d59-811baced70af",
   "metadata": {},
   "outputs": [],
   "source": [
    "pfn_target_entity_vc = get_entity_value_counts(pfn_rels.target)"
   ]
  },
  {
   "cell_type": "code",
   "execution_count": 48,
   "id": "772d63be-3ec5-47f5-90de-2c4a89d5500e",
   "metadata": {},
   "outputs": [],
   "source": [
    "pfn_target_entity_vc\n",
    "# postprocessing: \n",
    "target_keys_to_unite_pfn = {\n",
    "    'methods': 'method', \n",
    "    'problems': 'problem',\n",
    "    'approaches': 'approach', \n",
    "    'techniques': 'technique', \n",
    "    'It': 'it', 'models': 'model',\n",
    "    'algorithms': 'algorithm', 'datasets': 'dataset',\n",
    "    'tasks': 'task', 'systems': 'system',\n",
    "    'schemes': 'scheme', 'ones': 'one',\n",
    "    'networks': 'network',\n",
    "    'solutions': 'solution'\n",
    "}\n",
    "for k, v in target_keys_to_unite_pfn.items():\n",
    "    pfn_target_entity_vc[v] += pfn_target_entity_vc[k]\n",
    "    del pfn_target_entity_vc[k]\n",
    "pfn_target_entity_vc = dict(sorted(pfn_target_entity_vc.items(), key=lambda t: t[1], reverse=True))\n"
   ]
  },
  {
   "cell_type": "code",
   "execution_count": 49,
   "id": "db1973c4-5e90-4098-a649-88bbadb2dcc6",
   "metadata": {},
   "outputs": [
    {
     "data": {
      "image/png": "[encoded data removed]",
      "text/plain": [
       "<Figure size 936x504 with 1 Axes>"
      ]
     },
     "metadata": {
      "needs_background": "light"
     },
     "output_type": "display_data"
    }
   ],
   "source": [
    "plot_dist(data=pfn_target_entity_vc, title='PFN: Target entity distribution', xlabel='Target entity', ylabel='Degree', top_n=25)"
   ]
  },
  {
   "cell_type": "markdown",
   "id": "1c6fae34-46d4-45f1-9480-1771420f4a44",
   "metadata": {},
   "source": [
    "### Rebel"
   ]
  },
  {
   "cell_type": "code",
   "execution_count": 247,
   "id": "d768a612-7e85-4594-9a4f-a3994bc7a325",
   "metadata": {},
   "outputs": [],
   "source": [
    "rebel_source_entity_vc = get_entity_value_counts(rebel_rels.source)"
   ]
  },
  {
   "cell_type": "code",
   "execution_count": 249,
   "id": "ecec7947-2ad4-40af-b870-46e51a5802a6",
   "metadata": {},
   "outputs": [
    {
     "data": {
      "image/png": "[encoded data removed]",
      "text/plain": [
       "<Figure size 936x504 with 1 Axes>"
      ]
     },
     "metadata": {
      "needs_background": "light"
     },
     "output_type": "display_data"
    }
   ],
   "source": [
    "plot_dist(data=rebel_source_entity_vc, title='Rebel: Source entity distribution', xlabel='Source entity', ylabel='Degree', top_n=25)"
   ]
  },
  {
   "cell_type": "code",
   "execution_count": 250,
   "id": "65d52c01-dddf-47bd-8306-09b0a2b80f4c",
   "metadata": {},
   "outputs": [],
   "source": [
    "rebel_target_entity_vc = get_entity_value_counts(rebel_rels.target)"
   ]
  },
  {
   "cell_type": "code",
   "execution_count": 251,
   "id": "a2df4891-f991-4601-919e-0591e08651f9",
   "metadata": {},
   "outputs": [
    {
     "data": {
      "image/png": "[encoded data removed]",
      "text/plain": [
       "<Figure size 936x504 with 1 Axes>"
      ]
     },
     "metadata": {
      "needs_background": "light"
     },
     "output_type": "display_data"
    }
   ],
   "source": [
    "plot_dist(data=rebel_target_entity_vc, title='Rebel: Target entity distribution', xlabel='Target entity', ylabel='Degree', top_n=25)"
   ]
  },
  {
   "cell_type": "markdown",
   "id": "fd5f94a5-0a5a-4cd7-8b7c-2ed40d194483",
   "metadata": {},
   "source": [
    "## Graphs rendering"
   ]
  },
  {
   "cell_type": "markdown",
   "id": "d77817e6-c0bd-46df-8aa8-60aed0c7d7cd",
   "metadata": {},
   "source": [
    "### REBEL"
   ]
  },
  {
   "cell_type": "code",
   "execution_count": 396,
   "id": "79f80b82-443d-4a06-92af-64abb4c05e69",
   "metadata": {},
   "outputs": [
    {
     "data": {
      "text/html": [
       "<div>\n",
       "<style scoped>\n",
       "    .dataframe tbody tr th:only-of-type {\n",
       "        vertical-align: middle;\n",
       "    }\n",
       "\n",
       "    .dataframe tbody tr th {\n",
       "        vertical-align: top;\n",
       "    }\n",
       "\n",
       "    .dataframe thead th {\n",
       "        text-align: right;\n",
       "    }\n",
       "</style>\n",
       "<table border=\"1\" class=\"dataframe\">\n",
       "  <thead>\n",
       "    <tr style=\"text-align: right;\">\n",
       "      <th></th>\n",
       "      <th>edge</th>\n",
       "      <th>source</th>\n",
       "      <th>target</th>\n",
       "    </tr>\n",
       "  </thead>\n",
       "  <tbody>\n",
       "    <tr>\n",
       "      <th>0</th>\n",
       "      <td>has part</td>\n",
       "      <td>2d field theory</td>\n",
       "      <td>2d one</td>\n",
       "    </tr>\n",
       "    <tr>\n",
       "      <th>1</th>\n",
       "      <td>part of</td>\n",
       "      <td>2d one</td>\n",
       "      <td>2d field theory</td>\n",
       "    </tr>\n",
       "    <tr>\n",
       "      <th>2</th>\n",
       "      <td>facet of</td>\n",
       "      <td>original model</td>\n",
       "      <td>scale invariant theory</td>\n",
       "    </tr>\n",
       "    <tr>\n",
       "      <th>3</th>\n",
       "      <td>subclass of</td>\n",
       "      <td>2d conformal model</td>\n",
       "      <td>conformal model</td>\n",
       "    </tr>\n",
       "    <tr>\n",
       "      <th>4</th>\n",
       "      <td>subclass of</td>\n",
       "      <td>noise free KPZ equation</td>\n",
       "      <td>reaction diffusion equation</td>\n",
       "    </tr>\n",
       "    <tr>\n",
       "      <th>...</th>\n",
       "      <td>...</td>\n",
       "      <td>...</td>\n",
       "      <td>...</td>\n",
       "    </tr>\n",
       "    <tr>\n",
       "      <th>1277531</th>\n",
       "      <td>facet of</td>\n",
       "      <td>shot capability</td>\n",
       "      <td>system</td>\n",
       "    </tr>\n",
       "    <tr>\n",
       "      <th>1277532</th>\n",
       "      <td>subclass of</td>\n",
       "      <td>adversarial training problem</td>\n",
       "      <td>meta learning</td>\n",
       "    </tr>\n",
       "    <tr>\n",
       "      <th>1277533</th>\n",
       "      <td>use</td>\n",
       "      <td>generator</td>\n",
       "      <td>training</td>\n",
       "    </tr>\n",
       "    <tr>\n",
       "      <th>1277534</th>\n",
       "      <td>use</td>\n",
       "      <td>discriminator</td>\n",
       "      <td>training</td>\n",
       "    </tr>\n",
       "    <tr>\n",
       "      <th>1277535</th>\n",
       "      <td>uses</td>\n",
       "      <td>portrait painting</td>\n",
       "      <td>talking head model</td>\n",
       "    </tr>\n",
       "  </tbody>\n",
       "</table>\n",
       "<p>1277536 rows × 3 columns</p>\n",
       "</div>"
      ],
      "text/plain": [
       "                edge                        source  \\\n",
       "0           has part               2d field theory   \n",
       "1            part of                        2d one   \n",
       "2           facet of                original model   \n",
       "3        subclass of            2d conformal model   \n",
       "4        subclass of       noise free KPZ equation   \n",
       "...              ...                           ...   \n",
       "1277531     facet of               shot capability   \n",
       "1277532  subclass of  adversarial training problem   \n",
       "1277533          use                     generator   \n",
       "1277534          use                 discriminator   \n",
       "1277535         uses             portrait painting   \n",
       "\n",
       "                              target  \n",
       "0                             2d one  \n",
       "1                    2d field theory  \n",
       "2             scale invariant theory  \n",
       "3                    conformal model  \n",
       "4        reaction diffusion equation  \n",
       "...                              ...  \n",
       "1277531                       system  \n",
       "1277532                meta learning  \n",
       "1277533                     training  \n",
       "1277534                     training  \n",
       "1277535           talking head model  \n",
       "\n",
       "[1277536 rows x 3 columns]"
      ]
     },
     "execution_count": 396,
     "metadata": {},
     "output_type": "execute_result"
    }
   ],
   "source": [
    "rebel_rels"
   ]
  },
  {
   "cell_type": "code",
   "execution_count": 3,
   "id": "005c8149-9bac-40b6-8797-adc8cd520fdd",
   "metadata": {},
   "outputs": [],
   "source": [
    "rebel_rels_no_duplicates = rebel_rels.drop_duplicates()\n"
   ]
  },
  {
   "cell_type": "code",
   "execution_count": 21,
   "id": "4b1c89d7-e7d7-475a-b967-f25e9f8cdbf5",
   "metadata": {
    "tags": []
   },
   "outputs": [],
   "source": [
    "def random_subgraph(relations, entity='deep learning', n_edges=7):\n",
    "    dl_rel = relations[relations.source==entity]\n",
    "    sources, targets = [], []\n",
    "    chosen_edges = []\n",
    "    chosen_edges.append(dl_rel.iloc[0])\n",
    "    sources.append(chosen_edges[0].source)\n",
    "    targets.append(chosen_edges[0].target)\n",
    "    for item, vc in dict(relations.edge.value_counts()).items():\n",
    "        chosen_edges_item = []\n",
    "        print(item)\n",
    "        cur_df = relations[relations.edge==item]\n",
    "        for triple in tqdm(cur_df.iterrows(), total=len(cur_df)):\n",
    "            if triple[1].source in sources or triple[1].target in targets:\n",
    "                chosen_edges_item.append(triple[1])\n",
    "                print(len(chosen_edges_item))\n",
    "                sources.append(triple[1].source)\n",
    "                targets.append(triple[1].target)\n",
    "            if len(chosen_edges_item) == min(n_edges, vc*0.03):\n",
    "                print('Finished:', item)\n",
    "                chosen_edges.append(chosen_edges_item)\n",
    "                break\n",
    "    out = list(chain(*chosen_edges[1:]))\n",
    "    out.append(chosen_edges[0])\n",
    "    return out"
   ]
  },
  {
   "cell_type": "code",
   "execution_count": 6,
   "id": "d8f1ca5f-3085-43a9-a93f-511bbf550db5",
   "metadata": {
    "collapsed": true,
    "jupyter": {
     "outputs_hidden": true
    },
    "tags": []
   },
   "outputs": [
    {
     "name": "stdout",
     "output_type": "stream",
     "text": [
      "subclass of\n"
     ]
    },
    {
     "name": "stderr",
     "output_type": "stream",
     "text": [
      "  1%|          | 1980/365831 [00:00<00:19, 18744.43it/s]"
     ]
    },
    {
     "name": "stdout",
     "output_type": "stream",
     "text": [
      "1\n",
      "2\n",
      "3\n",
      "4\n",
      "5\n",
      "6\n",
      "7\n",
      "Finished: subclass of\n",
      "part of\n"
     ]
    },
    {
     "name": "stderr",
     "output_type": "stream",
     "text": [
      "\n",
      "  0%|          | 570/132309 [00:00<00:07, 17952.91it/s]"
     ]
    },
    {
     "name": "stdout",
     "output_type": "stream",
     "text": [
      "1\n",
      "2\n",
      "3\n",
      "4\n",
      "5\n",
      "6\n",
      "7\n",
      "Finished: part of\n",
      "instance of\n"
     ]
    },
    {
     "name": "stderr",
     "output_type": "stream",
     "text": [
      "\n",
      "  1%|          | 913/112248 [00:00<00:06, 18016.21it/s]\n"
     ]
    },
    {
     "name": "stdout",
     "output_type": "stream",
     "text": [
      "1\n",
      "2\n",
      "3\n",
      "4\n",
      "5\n",
      "6\n",
      "7\n",
      "Finished: instance of\n",
      "has part\n"
     ]
    },
    {
     "name": "stderr",
     "output_type": "stream",
     "text": [
      "  1%|          | 1016/103449 [00:00<00:05, 18293.02it/s]\n"
     ]
    },
    {
     "name": "stdout",
     "output_type": "stream",
     "text": [
      "1\n",
      "2\n",
      "3\n",
      "4\n",
      "5\n",
      "6\n",
      "7\n",
      "Finished: has part\n",
      "facet of\n"
     ]
    },
    {
     "name": "stderr",
     "output_type": "stream",
     "text": [
      "  0%|          | 166/100760 [00:00<00:05, 17467.94it/s]\n"
     ]
    },
    {
     "name": "stdout",
     "output_type": "stream",
     "text": [
      "1\n",
      "2\n",
      "3\n",
      "4\n",
      "5\n",
      "6\n",
      "7\n",
      "Finished: facet of\n",
      "opposite of\n"
     ]
    },
    {
     "name": "stderr",
     "output_type": "stream",
     "text": [
      "  3%|▎         | 1871/58177 [00:00<00:03, 18707.56it/s]"
     ]
    },
    {
     "name": "stdout",
     "output_type": "stream",
     "text": [
      "1\n",
      "2\n"
     ]
    },
    {
     "name": "stderr",
     "output_type": "stream",
     "text": [
      "  5%|▍         | 2846/58177 [00:00<00:03, 18377.04it/s]\n"
     ]
    },
    {
     "name": "stdout",
     "output_type": "stream",
     "text": [
      "3\n",
      "4\n",
      "5\n",
      "6\n",
      "7\n",
      "Finished: opposite of\n",
      "studied by\n"
     ]
    },
    {
     "name": "stderr",
     "output_type": "stream",
     "text": [
      "  1%|          | 311/41955 [00:00<00:02, 17008.22it/s]"
     ]
    },
    {
     "name": "stdout",
     "output_type": "stream",
     "text": [
      "1\n",
      "2\n",
      "3\n",
      "4\n",
      "5\n",
      "6\n",
      "7\n",
      "Finished: studied by\n",
      "studies\n"
     ]
    },
    {
     "name": "stderr",
     "output_type": "stream",
     "text": [
      "\n",
      "  1%|          | 218/31288 [00:00<00:01, 17784.92it/s]"
     ]
    },
    {
     "name": "stdout",
     "output_type": "stream",
     "text": [
      "1\n",
      "2\n",
      "3\n",
      "4\n",
      "5\n",
      "6\n",
      "7\n",
      "Finished: studies\n",
      "use\n"
     ]
    },
    {
     "name": "stderr",
     "output_type": "stream",
     "text": [
      "\n",
      "  1%|          | 171/31005 [00:00<00:01, 17567.44it/s]\n"
     ]
    },
    {
     "name": "stdout",
     "output_type": "stream",
     "text": [
      "1\n",
      "2\n",
      "3\n",
      "4\n",
      "5\n",
      "6\n",
      "7\n",
      "Finished: use\n",
      "different from\n"
     ]
    },
    {
     "name": "stderr",
     "output_type": "stream",
     "text": [
      "  0%|          | 0/24727 [00:00<?, ?it/s]"
     ]
    },
    {
     "name": "stdout",
     "output_type": "stream",
     "text": [
      "1\n",
      "2\n",
      "3\n",
      "4\n",
      "5\n"
     ]
    },
    {
     "name": "stderr",
     "output_type": "stream",
     "text": [
      "  5%|▌         | 1327/24727 [00:00<00:01, 17695.80it/s]\n"
     ]
    },
    {
     "name": "stdout",
     "output_type": "stream",
     "text": [
      "6\n",
      "7\n",
      "Finished: different from\n",
      "uses\n"
     ]
    },
    {
     "name": "stderr",
     "output_type": "stream",
     "text": [
      "  1%|▏         | 278/18676 [00:00<00:01, 16527.99it/s]\n"
     ]
    },
    {
     "name": "stdout",
     "output_type": "stream",
     "text": [
      "1\n",
      "2\n",
      "3\n",
      "4\n",
      "5\n",
      "6\n",
      "7\n",
      "Finished: uses\n",
      "has effect\n"
     ]
    },
    {
     "name": "stderr",
     "output_type": "stream",
     "text": [
      "  4%|▍         | 739/18283 [00:00<00:01, 17398.28it/s]"
     ]
    },
    {
     "name": "stdout",
     "output_type": "stream",
     "text": [
      "1\n",
      "2\n",
      "3\n",
      "4\n",
      "5\n",
      "6\n",
      "7\n",
      "Finished: has effect\n",
      "has cause\n"
     ]
    },
    {
     "name": "stderr",
     "output_type": "stream",
     "text": [
      "\n",
      "  2%|▏         | 287/12904 [00:00<00:00, 17480.07it/s]"
     ]
    },
    {
     "name": "stdout",
     "output_type": "stream",
     "text": [
      "1\n",
      "2\n",
      "3\n",
      "4\n",
      "5\n",
      "6\n",
      "7\n",
      "Finished: has cause\n",
      "followed by\n"
     ]
    },
    {
     "name": "stderr",
     "output_type": "stream",
     "text": [
      "\n",
      "  0%|          | 0/12445 [00:00<?, ?it/s]"
     ]
    },
    {
     "name": "stdout",
     "output_type": "stream",
     "text": [
      "1\n",
      "2\n",
      "3\n",
      "4\n",
      "5\n",
      "6\n"
     ]
    },
    {
     "name": "stderr",
     "output_type": "stream",
     "text": [
      "  9%|▊         | 1060/12445 [00:00<00:00, 17177.42it/s]\n"
     ]
    },
    {
     "name": "stdout",
     "output_type": "stream",
     "text": [
      "7\n",
      "Finished: followed by\n",
      "follows\n"
     ]
    },
    {
     "name": "stderr",
     "output_type": "stream",
     "text": [
      "  6%|▋         | 672/10609 [00:00<00:00, 17748.08it/s]"
     ]
    },
    {
     "name": "stdout",
     "output_type": "stream",
     "text": [
      "1\n",
      "2\n",
      "3\n",
      "4\n",
      "5\n",
      "6\n",
      "7\n",
      "Finished: follows\n"
     ]
    },
    {
     "name": "stderr",
     "output_type": "stream",
     "text": [
      "\n"
     ]
    },
    {
     "name": "stdout",
     "output_type": "stream",
     "text": [
      "used by\n"
     ]
    },
    {
     "name": "stderr",
     "output_type": "stream",
     "text": [
      "  2%|▏         | 189/9935 [00:00<00:00, 17087.50it/s]"
     ]
    },
    {
     "name": "stdout",
     "output_type": "stream",
     "text": [
      "1\n",
      "2\n",
      "3\n",
      "4\n",
      "5\n",
      "6\n",
      "7\n",
      "Finished: used by\n",
      "said to be the same as\n"
     ]
    },
    {
     "name": "stderr",
     "output_type": "stream",
     "text": [
      "\n",
      " 12%|█▏        | 790/6573 [00:00<00:00, 17031.44it/s]"
     ]
    },
    {
     "name": "stdout",
     "output_type": "stream",
     "text": [
      "1\n",
      "2\n",
      "3\n",
      "4\n",
      "5\n",
      "6\n",
      "7\n",
      "Finished: said to be the same as\n",
      "discoverer or inventor\n"
     ]
    },
    {
     "name": "stderr",
     "output_type": "stream",
     "text": [
      "\n",
      "  0%|          | 0/6130 [00:00<?, ?it/s]"
     ]
    },
    {
     "name": "stdout",
     "output_type": "stream",
     "text": [
      "1\n",
      "2\n",
      "3\n",
      "4\n"
     ]
    },
    {
     "name": "stderr",
     "output_type": "stream",
     "text": [
      " 54%|█████▎    | 3293/6130 [00:00<00:00, 17330.18it/s]\n"
     ]
    },
    {
     "name": "stdout",
     "output_type": "stream",
     "text": [
      "5\n",
      "6\n",
      "7\n",
      "Finished: discoverer or inventor\n",
      "named after\n"
     ]
    },
    {
     "name": "stderr",
     "output_type": "stream",
     "text": [
      "  0%|          | 0/5083 [00:00<?, ?it/s]"
     ]
    },
    {
     "name": "stdout",
     "output_type": "stream",
     "text": [
      "1\n",
      "2\n"
     ]
    },
    {
     "name": "stderr",
     "output_type": "stream",
     "text": [
      " 29%|██▉       | 1470/5083 [00:00<00:00, 16993.06it/s]"
     ]
    },
    {
     "name": "stdout",
     "output_type": "stream",
     "text": [
      "3\n",
      "4\n",
      "5\n",
      "6\n",
      "7\n",
      "Finished: named after\n",
      "field of work\n"
     ]
    },
    {
     "name": "stderr",
     "output_type": "stream",
     "text": [
      "\n",
      " 16%|█▌        | 806/5054 [00:00<00:00, 16715.75it/s]\n"
     ]
    },
    {
     "name": "stdout",
     "output_type": "stream",
     "text": [
      "1\n",
      "2\n",
      "3\n",
      "4\n",
      "5\n",
      "6\n",
      "7\n",
      "Finished: field of work\n",
      "based on\n"
     ]
    },
    {
     "name": "stderr",
     "output_type": "stream",
     "text": [
      "  0%|          | 0/3632 [00:00<?, ?it/s]"
     ]
    },
    {
     "name": "stdout",
     "output_type": "stream",
     "text": [
      "1\n",
      "2\n",
      "3\n"
     ]
    },
    {
     "name": "stderr",
     "output_type": "stream",
     "text": [
      " 62%|██████▏   | 2235/3632 [00:00<00:00, 17125.30it/s]\n"
     ]
    },
    {
     "name": "stdout",
     "output_type": "stream",
     "text": [
      "4\n",
      "5\n",
      "6\n",
      "7\n",
      "Finished: based on\n",
      "main subject\n"
     ]
    },
    {
     "name": "stderr",
     "output_type": "stream",
     "text": [
      "  0%|          | 0/2952 [00:00<?, ?it/s]"
     ]
    },
    {
     "name": "stdout",
     "output_type": "stream",
     "text": [
      "1\n",
      "2\n"
     ]
    },
    {
     "name": "stderr",
     "output_type": "stream",
     "text": [
      " 32%|███▏      | 932/2952 [00:00<00:00, 16559.10it/s]\n"
     ]
    },
    {
     "name": "stdout",
     "output_type": "stream",
     "text": [
      "3\n",
      "4\n",
      "5\n",
      "6\n",
      "7\n",
      "Finished: main subject\n",
      "point in time\n"
     ]
    },
    {
     "name": "stderr",
     "output_type": "stream",
     "text": [
      " 64%|██████▍   | 1854/2887 [00:00<00:00, 17013.68it/s]"
     ]
    },
    {
     "name": "stdout",
     "output_type": "stream",
     "text": [
      "1\n",
      "2\n",
      "3\n",
      "4\n",
      "5\n",
      "6\n",
      "7\n",
      "Finished: point in time\n",
      "notable work\n"
     ]
    },
    {
     "name": "stderr",
     "output_type": "stream",
     "text": [
      "\n",
      " 66%|██████▋   | 1691/2548 [00:00<00:00, 16908.48it/s]"
     ]
    },
    {
     "name": "stdout",
     "output_type": "stream",
     "text": [
      "1\n",
      "2\n",
      "3\n",
      "4\n"
     ]
    },
    {
     "name": "stderr",
     "output_type": "stream",
     "text": [
      "100%|██████████| 2548/2548 [00:00<00:00, 16791.19it/s]\n"
     ]
    },
    {
     "name": "stdout",
     "output_type": "stream",
     "text": [
      "has parts of the class\n"
     ]
    },
    {
     "name": "stderr",
     "output_type": "stream",
     "text": [
      " 54%|█████▍    | 1241/2303 [00:00<00:00, 16497.46it/s]\n"
     ]
    },
    {
     "name": "stdout",
     "output_type": "stream",
     "text": [
      "1\n",
      "2\n",
      "3\n",
      "4\n",
      "5\n",
      "6\n",
      "7\n",
      "Finished: has parts of the class\n",
      "student\n"
     ]
    },
    {
     "name": "stderr",
     "output_type": "stream",
     "text": [
      "  0%|          | 0/2292 [00:00<?, ?it/s]"
     ]
    },
    {
     "name": "stdout",
     "output_type": "stream",
     "text": [
      "1\n",
      "2\n"
     ]
    },
    {
     "name": "stderr",
     "output_type": "stream",
     "text": [
      "100%|██████████| 2292/2292 [00:00<00:00, 16541.48it/s]\n"
     ]
    },
    {
     "name": "stdout",
     "output_type": "stream",
     "text": [
      "3\n",
      "4\n",
      "student of\n"
     ]
    },
    {
     "name": "stderr",
     "output_type": "stream",
     "text": [
      "100%|██████████| 1990/1990 [00:00<00:00, 16727.59it/s]\n"
     ]
    },
    {
     "name": "stdout",
     "output_type": "stream",
     "text": [
      "country\n"
     ]
    },
    {
     "name": "stderr",
     "output_type": "stream",
     "text": [
      "100%|██████████| 1659/1659 [00:00<00:00, 16967.37it/s]\n"
     ]
    },
    {
     "name": "stdout",
     "output_type": "stream",
     "text": [
      "1\n",
      "product or material produced\n"
     ]
    },
    {
     "name": "stderr",
     "output_type": "stream",
     "text": [
      "  8%|▊         | 106/1352 [00:00<00:00, 11826.88it/s]\n"
     ]
    },
    {
     "name": "stdout",
     "output_type": "stream",
     "text": [
      "1\n",
      "2\n",
      "3\n",
      "4\n",
      "5\n",
      "6\n",
      "7\n",
      "Finished: product or material produced\n",
      "depicts\n"
     ]
    },
    {
     "name": "stderr",
     "output_type": "stream",
     "text": [
      " 57%|█████▋    | 659/1157 [00:00<00:00, 16036.66it/s]"
     ]
    },
    {
     "name": "stdout",
     "output_type": "stream",
     "text": [
      "1\n",
      "2\n",
      "3\n",
      "4\n",
      "5\n",
      "6\n",
      "7\n",
      "Finished: depicts\n",
      "field of this occupation\n"
     ]
    },
    {
     "name": "stderr",
     "output_type": "stream",
     "text": [
      "\n",
      "  9%|▊         | 88/1035 [00:00<00:00, 14826.22it/s]\n"
     ]
    },
    {
     "name": "stdout",
     "output_type": "stream",
     "text": [
      "1\n",
      "2\n",
      "3\n",
      "4\n",
      "5\n",
      "6\n",
      "7\n",
      "Finished: field of this occupation\n",
      "practiced by\n"
     ]
    },
    {
     "name": "stderr",
     "output_type": "stream",
     "text": [
      " 13%|█▎        | 126/955 [00:00<00:00, 15345.91it/s]\n"
     ]
    },
    {
     "name": "stdout",
     "output_type": "stream",
     "text": [
      "1\n",
      "2\n",
      "3\n",
      "4\n",
      "5\n",
      "6\n",
      "7\n",
      "Finished: practiced by\n",
      "location\n"
     ]
    },
    {
     "name": "stderr",
     "output_type": "stream",
     "text": [
      "100%|██████████| 870/870 [00:00<00:00, 16161.37it/s]\n"
     ]
    },
    {
     "name": "stdout",
     "output_type": "stream",
     "text": [
      "1\n",
      "influenced by\n"
     ]
    },
    {
     "name": "stderr",
     "output_type": "stream",
     "text": [
      "  0%|          | 0/869 [00:00<?, ?it/s]"
     ]
    },
    {
     "name": "stdout",
     "output_type": "stream",
     "text": [
      "1\n"
     ]
    },
    {
     "name": "stderr",
     "output_type": "stream",
     "text": [
      " 99%|█████████▊| 856/869 [00:00<00:00, 15767.64it/s]\n"
     ]
    },
    {
     "name": "stdout",
     "output_type": "stream",
     "text": [
      "2\n",
      "3\n",
      "4\n",
      "5\n",
      "6\n",
      "7\n",
      "Finished: influenced by\n",
      "located in the administrative territorial entity\n"
     ]
    },
    {
     "name": "stderr",
     "output_type": "stream",
     "text": [
      "100%|██████████| 858/858 [00:00<00:00, 16212.61it/s]\n"
     ]
    },
    {
     "name": "stdout",
     "output_type": "stream",
     "text": [
      "developer\n"
     ]
    },
    {
     "name": "stderr",
     "output_type": "stream",
     "text": [
      "  0%|          | 0/826 [00:00<?, ?it/s]"
     ]
    },
    {
     "name": "stdout",
     "output_type": "stream",
     "text": [
      "1\n",
      "2\n",
      "3\n",
      "4\n",
      "5\n",
      "6\n"
     ]
    },
    {
     "name": "stderr",
     "output_type": "stream",
     "text": [
      " 96%|█████████▋| 796/826 [00:00<00:00, 15677.58it/s]\n"
     ]
    },
    {
     "name": "stdout",
     "output_type": "stream",
     "text": [
      "7\n",
      "Finished: developer\n",
      "programming language\n"
     ]
    },
    {
     "name": "stderr",
     "output_type": "stream",
     "text": [
      " 55%|█████▍    | 452/825 [00:00<00:00, 13922.08it/s]\n"
     ]
    },
    {
     "name": "stdout",
     "output_type": "stream",
     "text": [
      "1\n",
      "2\n",
      "3\n",
      "4\n",
      "5\n",
      "6\n",
      "7\n",
      "Finished: programming language\n",
      "shares border with\n"
     ]
    },
    {
     "name": "stderr",
     "output_type": "stream",
     "text": [
      "  0%|          | 0/797 [00:00<?, ?it/s]"
     ]
    },
    {
     "name": "stdout",
     "output_type": "stream",
     "text": [
      "1\n"
     ]
    },
    {
     "name": "stderr",
     "output_type": "stream",
     "text": [
      " 57%|█████▋    | 453/797 [00:00<00:00, 14971.04it/s]"
     ]
    },
    {
     "name": "stdout",
     "output_type": "stream",
     "text": [
      "2\n",
      "3\n",
      "4\n",
      "5\n",
      "6\n",
      "7\n",
      "Finished: shares border with\n",
      "author\n"
     ]
    },
    {
     "name": "stderr",
     "output_type": "stream",
     "text": [
      "\n",
      " 67%|██████▋   | 527/788 [00:00<00:00, 15124.59it/s]"
     ]
    },
    {
     "name": "stdout",
     "output_type": "stream",
     "text": [
      "1\n",
      "2\n",
      "3\n",
      "4\n",
      "5\n",
      "6\n",
      "7\n",
      "Finished: author\n",
      "connects with\n"
     ]
    },
    {
     "name": "stderr",
     "output_type": "stream",
     "text": [
      "\n",
      "  0%|          | 0/769 [00:00<?, ?it/s]"
     ]
    },
    {
     "name": "stdout",
     "output_type": "stream",
     "text": [
      "1\n",
      "2\n",
      "3\n",
      "4\n",
      "5\n"
     ]
    },
    {
     "name": "stderr",
     "output_type": "stream",
     "text": [
      "100%|██████████| 769/769 [00:00<00:00, 15448.89it/s]"
     ]
    },
    {
     "name": "stdout",
     "output_type": "stream",
     "text": [
      "publication date\n"
     ]
    },
    {
     "name": "stderr",
     "output_type": "stream",
     "text": [
      "\n",
      " 23%|██▎       | 161/689 [00:00<00:00, 14045.57it/s]"
     ]
    },
    {
     "name": "stdout",
     "output_type": "stream",
     "text": [
      "1\n",
      "2\n",
      "3\n",
      "4\n",
      "5\n",
      "6\n",
      "7\n",
      "Finished: publication date\n",
      "operator\n"
     ]
    },
    {
     "name": "stderr",
     "output_type": "stream",
     "text": [
      "\n",
      "100%|██████████| 659/659 [00:00<00:00, 15777.33it/s]"
     ]
    },
    {
     "name": "stdout",
     "output_type": "stream",
     "text": [
      "derivative work\n"
     ]
    },
    {
     "name": "stderr",
     "output_type": "stream",
     "text": [
      "\n",
      "  0%|          | 0/556 [00:00<?, ?it/s]"
     ]
    },
    {
     "name": "stdout",
     "output_type": "stream",
     "text": [
      "1\n",
      "2\n",
      "3\n",
      "4\n",
      "5\n",
      "6\n",
      "7\n",
      "Finished: "
     ]
    },
    {
     "name": "stderr",
     "output_type": "stream",
     "text": [
      " 82%|████████▏ | 456/556 [00:00<00:00, 15086.35it/s]"
     ]
    },
    {
     "name": "stdout",
     "output_type": "stream",
     "text": [
      "derivative work\n",
      "subject has role\n"
     ]
    },
    {
     "name": "stderr",
     "output_type": "stream",
     "text": [
      "\n",
      "100%|██████████| 491/491 [00:00<00:00, 15523.57it/s]\n"
     ]
    },
    {
     "name": "stdout",
     "output_type": "stream",
     "text": [
      "site of astronomical discovery\n"
     ]
    },
    {
     "name": "stderr",
     "output_type": "stream",
     "text": [
      " 72%|███████▏  | 349/484 [00:00<00:00, 15283.23it/s]"
     ]
    },
    {
     "name": "stdout",
     "output_type": "stream",
     "text": [
      "1\n",
      "2\n",
      "3\n",
      "4\n",
      "5\n",
      "6\n",
      "7\n",
      "Finished: site of astronomical discovery\n"
     ]
    },
    {
     "name": "stderr",
     "output_type": "stream",
     "text": [
      "\n"
     ]
    },
    {
     "name": "stdout",
     "output_type": "stream",
     "text": [
      "owned by\n"
     ]
    },
    {
     "name": "stderr",
     "output_type": "stream",
     "text": [
      " 82%|████████▏ | 343/420 [00:00<00:00, 14185.18it/s]\n"
     ]
    },
    {
     "name": "stdout",
     "output_type": "stream",
     "text": [
      "1\n",
      "2\n",
      "3\n",
      "4\n",
      "5\n",
      "6\n",
      "7\n",
      "Finished: owned by\n",
      "inception\n"
     ]
    },
    {
     "name": "stderr",
     "output_type": "stream",
     "text": [
      " 14%|█▍        | 47/332 [00:00<00:00, 12795.81it/s]\n"
     ]
    },
    {
     "name": "stdout",
     "output_type": "stream",
     "text": [
      "1\n",
      "2\n",
      "3\n",
      "4\n",
      "5\n",
      "6\n",
      "7\n",
      "Finished: inception\n",
      "parent organization\n"
     ]
    },
    {
     "name": "stderr",
     "output_type": "stream",
     "text": [
      "  0%|          | 0/323 [00:00<?, ?it/s]"
     ]
    },
    {
     "name": "stdout",
     "output_type": "stream",
     "text": [
      "1\n"
     ]
    },
    {
     "name": "stderr",
     "output_type": "stream",
     "text": [
      "100%|██████████| 323/323 [00:00<00:00, 14682.72it/s]\n"
     ]
    },
    {
     "name": "stdout",
     "output_type": "stream",
     "text": [
      "subsidiary\n"
     ]
    },
    {
     "name": "stderr",
     "output_type": "stream",
     "text": [
      "100%|██████████| 318/318 [00:00<00:00, 14890.69it/s]\n"
     ]
    },
    {
     "name": "stdout",
     "output_type": "stream",
     "text": [
      "spouse\n"
     ]
    },
    {
     "name": "stderr",
     "output_type": "stream",
     "text": [
      "100%|██████████| 314/314 [00:00<00:00, 14928.89it/s]\n"
     ]
    },
    {
     "name": "stdout",
     "output_type": "stream",
     "text": [
      "manufacturer\n"
     ]
    },
    {
     "name": "stderr",
     "output_type": "stream",
     "text": [
      "100%|██████████| 285/285 [00:00<00:00, 14801.96it/s]\n"
     ]
    },
    {
     "name": "stdout",
     "output_type": "stream",
     "text": [
      "owner of\n"
     ]
    },
    {
     "name": "stderr",
     "output_type": "stream",
     "text": [
      " 66%|██████▌   | 180/273 [00:00<00:00, 14702.53it/s]\n"
     ]
    },
    {
     "name": "stdout",
     "output_type": "stream",
     "text": [
      "1\n",
      "2\n",
      "3\n",
      "4\n",
      "5\n",
      "6\n",
      "7\n",
      "Finished: owner of\n",
      "participant\n"
     ]
    },
    {
     "name": "stderr",
     "output_type": "stream",
     "text": [
      " 83%|████████▎ | 197/238 [00:00<00:00, 14664.88it/s]\n"
     ]
    },
    {
     "name": "stdout",
     "output_type": "stream",
     "text": [
      "1\n",
      "2\n",
      "3\n",
      "4\n",
      "5\n",
      "6\n",
      "7\n",
      "Finished: participant\n",
      "member of\n"
     ]
    },
    {
     "name": "stderr",
     "output_type": "stream",
     "text": [
      "100%|██████████| 233/233 [00:00<00:00, 14480.26it/s]\n"
     ]
    },
    {
     "name": "stdout",
     "output_type": "stream",
     "text": [
      "1\n",
      "2\n",
      "3\n",
      "4\n",
      "5\n",
      "6\n",
      "7\n",
      "8\n",
      "9\n",
      "10\n",
      "11\n",
      "12\n",
      "contains administrative territorial entity\n"
     ]
    },
    {
     "name": "stderr",
     "output_type": "stream",
     "text": [
      "100%|██████████| 212/212 [00:00<00:00, 12805.19it/s]\n"
     ]
    },
    {
     "name": "stdout",
     "output_type": "stream",
     "text": [
      "1\n",
      "2\n",
      "3\n",
      "4\n",
      "5\n",
      "6\n",
      "7\n",
      "8\n",
      "9\n",
      "10\n",
      "11\n",
      "12\n",
      "13\n",
      "14\n",
      "15\n",
      "16\n",
      "17\n",
      "18\n",
      "19\n",
      "20\n",
      "21\n",
      "22\n",
      "23\n",
      "24\n",
      "25\n",
      "26\n",
      "27\n",
      "28\n",
      "29\n",
      "30\n",
      "31\n",
      "32\n",
      "33\n",
      "34\n",
      "35\n",
      "36\n",
      "37\n",
      "38\n",
      "39\n",
      "40\n",
      "41\n",
      "42\n",
      "43\n",
      "44\n",
      "45\n",
      "46\n",
      "47\n",
      "48\n",
      "49\n",
      "50\n",
      "51\n",
      "is a list of\n"
     ]
    },
    {
     "name": "stderr",
     "output_type": "stream",
     "text": [
      "100%|██████████| 198/198 [00:00<00:00, 13202.43it/s]\n"
     ]
    },
    {
     "name": "stdout",
     "output_type": "stream",
     "text": [
      "1\n",
      "2\n",
      "3\n",
      "4\n",
      "5\n",
      "6\n",
      "7\n",
      "8\n",
      "9\n",
      "10\n",
      "11\n",
      "12\n",
      "13\n",
      "14\n",
      "15\n",
      "16\n",
      "17\n",
      "18\n",
      "19\n",
      "20\n",
      "medical condition treated\n"
     ]
    },
    {
     "name": "stderr",
     "output_type": "stream",
     "text": [
      "100%|██████████| 196/196 [00:00<00:00, 13941.18it/s]\n"
     ]
    },
    {
     "name": "stdout",
     "output_type": "stream",
     "text": [
      "significant event\n"
     ]
    },
    {
     "name": "stderr",
     "output_type": "stream",
     "text": [
      "100%|██████████| 196/196 [00:00<00:00, 11597.75it/s]\n"
     ]
    },
    {
     "name": "stdout",
     "output_type": "stream",
     "text": [
      "1\n",
      "2\n",
      "3\n",
      "4\n",
      "5\n",
      "6\n",
      "7\n",
      "8\n",
      "9\n",
      "10\n",
      "11\n",
      "12\n",
      "13\n",
      "14\n",
      "15\n",
      "16\n",
      "17\n",
      "18\n",
      "19\n",
      "20\n",
      "21\n",
      "22\n",
      "23\n",
      "24\n",
      "25\n",
      "26\n",
      "27\n",
      "28\n",
      "29\n",
      "30\n",
      "31\n",
      "32\n",
      "33\n",
      "34\n",
      "35\n",
      "36\n",
      "37\n",
      "38\n",
      "39\n",
      "40\n",
      "41\n",
      "42\n",
      "43\n",
      "44\n",
      "45\n",
      "46\n",
      "47\n",
      "48\n",
      "creator\n"
     ]
    },
    {
     "name": "stderr",
     "output_type": "stream",
     "text": [
      "100%|██████████| 194/194 [00:00<00:00, 12049.74it/s]\n"
     ]
    },
    {
     "name": "stdout",
     "output_type": "stream",
     "text": [
      "1\n",
      "2\n",
      "publisher\n"
     ]
    },
    {
     "name": "stderr",
     "output_type": "stream",
     "text": [
      "100%|██████████| 191/191 [00:00<00:00, 13181.39it/s]\n"
     ]
    },
    {
     "name": "stdout",
     "output_type": "stream",
     "text": [
      "1\n",
      "2\n",
      "sport\n"
     ]
    },
    {
     "name": "stderr",
     "output_type": "stream",
     "text": [
      "100%|██████████| 187/187 [00:00<00:00, 12793.35it/s]\n"
     ]
    },
    {
     "name": "stdout",
     "output_type": "stream",
     "text": [
      "drug used for treatment\n"
     ]
    },
    {
     "name": "stderr",
     "output_type": "stream",
     "text": [
      "100%|██████████| 172/172 [00:00<00:00, 13122.46it/s]\n"
     ]
    },
    {
     "name": "stdout",
     "output_type": "stream",
     "text": [
      "twinned administrative body\n"
     ]
    },
    {
     "name": "stderr",
     "output_type": "stream",
     "text": [
      "100%|██████████| 166/166 [00:00<00:00, 12643.54it/s]"
     ]
    },
    {
     "name": "stdout",
     "output_type": "stream",
     "text": [
      "1\n",
      "2\n",
      "3\n",
      "4\n",
      "5\n",
      "6\n",
      "7\n",
      "8\n",
      "9\n"
     ]
    },
    {
     "name": "stderr",
     "output_type": "stream",
     "text": [
      "\n"
     ]
    },
    {
     "name": "stdout",
     "output_type": "stream",
     "text": [
      "published in\n"
     ]
    },
    {
     "name": "stderr",
     "output_type": "stream",
     "text": [
      "100%|██████████| 158/158 [00:00<00:00, 9715.16it/s]\n"
     ]
    },
    {
     "name": "stdout",
     "output_type": "stream",
     "text": [
      "1\n",
      "2\n",
      "3\n",
      "4\n",
      "5\n",
      "6\n",
      "7\n",
      "8\n",
      "9\n",
      "10\n",
      "11\n",
      "12\n",
      "13\n",
      "14\n",
      "15\n",
      "16\n",
      "17\n",
      "18\n",
      "19\n",
      "20\n",
      "21\n",
      "22\n",
      "23\n",
      "24\n",
      "25\n",
      "26\n",
      "27\n",
      "28\n",
      "29\n",
      "30\n",
      "31\n",
      "32\n",
      "33\n",
      "34\n",
      "35\n",
      "36\n",
      "37\n",
      "38\n",
      "39\n",
      "40\n",
      "41\n",
      "42\n",
      "43\n",
      "44\n",
      "45\n",
      "46\n",
      "47\n",
      "48\n",
      "49\n",
      "50\n",
      "51\n",
      "52\n",
      "53\n",
      "54\n",
      "55\n",
      "56\n",
      "57\n",
      "58\n",
      "59\n",
      "60\n",
      "61\n",
      "62\n",
      "63\n",
      "64\n",
      "65\n",
      "66\n",
      "67\n",
      "68\n",
      "69\n",
      "70\n",
      "71\n",
      "72\n",
      "73\n",
      "74\n",
      "75\n",
      "76\n",
      "77\n",
      "78\n",
      "operating system\n"
     ]
    },
    {
     "name": "stderr",
     "output_type": "stream",
     "text": [
      "100%|██████████| 148/148 [00:00<00:00, 11719.47it/s]\n"
     ]
    },
    {
     "name": "stdout",
     "output_type": "stream",
     "text": [
      "platform\n"
     ]
    },
    {
     "name": "stderr",
     "output_type": "stream",
     "text": [
      "100%|██████████| 142/142 [00:00<00:00, 12049.43it/s]\n"
     ]
    },
    {
     "name": "stdout",
     "output_type": "stream",
     "text": [
      "1\n",
      "parent taxon\n"
     ]
    },
    {
     "name": "stderr",
     "output_type": "stream",
     "text": [
      "100%|██████████| 141/141 [00:00<00:00, 12071.29it/s]\n"
     ]
    },
    {
     "name": "stdout",
     "output_type": "stream",
     "text": [
      "sibling\n"
     ]
    },
    {
     "name": "stderr",
     "output_type": "stream",
     "text": [
      "100%|██████████| 133/133 [00:00<00:00, 12058.33it/s]\n"
     ]
    },
    {
     "name": "stdout",
     "output_type": "stream",
     "text": [
      "language of work or name\n"
     ]
    },
    {
     "name": "stderr",
     "output_type": "stream",
     "text": [
      "100%|██████████| 129/129 [00:00<00:00, 11126.39it/s]"
     ]
    },
    {
     "name": "stdout",
     "output_type": "stream",
     "text": [
      "1\n",
      "2\n",
      "3\n",
      "4\n",
      "5\n",
      "6\n",
      "7\n",
      "8\n",
      "9\n",
      "10\n",
      "11\n",
      "12\n",
      "13\n",
      "14\n",
      "15\n",
      "16\n",
      "17\n",
      "18\n",
      "19\n"
     ]
    },
    {
     "name": "stderr",
     "output_type": "stream",
     "text": [
      "\n"
     ]
    },
    {
     "name": "stdout",
     "output_type": "stream",
     "text": [
      "constellation\n"
     ]
    },
    {
     "name": "stderr",
     "output_type": "stream",
     "text": [
      "100%|██████████| 126/126 [00:00<00:00, 10775.90it/s]\n"
     ]
    },
    {
     "name": "stdout",
     "output_type": "stream",
     "text": [
      "number of participants\n"
     ]
    },
    {
     "name": "stderr",
     "output_type": "stream",
     "text": [
      "100%|██████████| 120/120 [00:00<00:00, 11550.05it/s]\n"
     ]
    },
    {
     "name": "stdout",
     "output_type": "stream",
     "text": [
      "replaces\n"
     ]
    },
    {
     "name": "stderr",
     "output_type": "stream",
     "text": [
      "  0%|          | 0/118 [00:00<?, ?it/s]"
     ]
    },
    {
     "name": "stdout",
     "output_type": "stream",
     "text": [
      "1\n"
     ]
    },
    {
     "name": "stderr",
     "output_type": "stream",
     "text": [
      "100%|██████████| 118/118 [00:00<00:00, 11035.43it/s]\n"
     ]
    },
    {
     "name": "stdout",
     "output_type": "stream",
     "text": [
      "replaced by\n"
     ]
    },
    {
     "name": "stderr",
     "output_type": "stream",
     "text": [
      "100%|██████████| 116/116 [00:00<00:00, 11923.23it/s]\n"
     ]
    },
    {
     "name": "stdout",
     "output_type": "stream",
     "text": [
      "participant in\n"
     ]
    },
    {
     "name": "stderr",
     "output_type": "stream",
     "text": [
      "100%|██████████| 109/109 [00:00<00:00, 11380.26it/s]\n"
     ]
    },
    {
     "name": "stdout",
     "output_type": "stream",
     "text": [
      "1\n",
      "2\n",
      "3\n",
      "4\n",
      "5\n",
      "6\n",
      "7\n",
      "8\n",
      "item operated\n"
     ]
    },
    {
     "name": "stderr",
     "output_type": "stream",
     "text": [
      "100%|██████████| 105/105 [00:00<00:00, 11605.71it/s]\n"
     ]
    },
    {
     "name": "stdout",
     "output_type": "stream",
     "text": [
      "1\n",
      "2\n",
      "3\n",
      "4\n",
      "genre\n"
     ]
    },
    {
     "name": "stderr",
     "output_type": "stream",
     "text": [
      "100%|██████████| 97/97 [00:00<00:00, 10500.37it/s]\n"
     ]
    },
    {
     "name": "stdout",
     "output_type": "stream",
     "text": [
      "1\n",
      "start time\n"
     ]
    },
    {
     "name": "stderr",
     "output_type": "stream",
     "text": [
      "100%|██████████| 86/86 [00:00<00:00, 11069.82it/s]"
     ]
    },
    {
     "name": "stdout",
     "output_type": "stream",
     "text": [
      "1\n",
      "2\n",
      "3\n",
      "4\n",
      "5\n",
      "6\n",
      "7\n",
      "industry\n"
     ]
    },
    {
     "name": "stderr",
     "output_type": "stream",
     "text": [
      "\n",
      "100%|██████████| 81/81 [00:00<00:00, 11318.58it/s]"
     ]
    },
    {
     "name": "stdout",
     "output_type": "stream",
     "text": [
      "1\n",
      "2\n",
      "3\n",
      "located in or next to body of water\n"
     ]
    },
    {
     "name": "stderr",
     "output_type": "stream",
     "text": [
      "\n",
      "100%|██████████| 74/74 [00:00<00:00, 10341.12it/s]"
     ]
    },
    {
     "name": "stdout",
     "output_type": "stream",
     "text": [
      "1\n",
      "2\n",
      "3\n",
      "4\n",
      "5\n",
      "6\n",
      "7\n",
      "8\n",
      "9\n",
      "10\n",
      "11\n",
      "12\n",
      "13\n",
      "14\n"
     ]
    },
    {
     "name": "stderr",
     "output_type": "stream",
     "text": [
      "\n"
     ]
    },
    {
     "name": "stdout",
     "output_type": "stream",
     "text": [
      "diplomatic relation\n"
     ]
    },
    {
     "name": "stderr",
     "output_type": "stream",
     "text": [
      "100%|██████████| 73/73 [00:00<00:00, 9137.10it/s]"
     ]
    },
    {
     "name": "stdout",
     "output_type": "stream",
     "text": [
      "1\n",
      "2\n",
      "3\n",
      "4\n",
      "5\n",
      "6\n",
      "7\n",
      "8\n",
      "9\n",
      "10\n",
      "11\n",
      "12\n",
      "13\n",
      "14\n",
      "15\n",
      "16\n",
      "17\n",
      "18\n",
      "19\n",
      "20\n",
      "21\n",
      "22\n",
      "23\n",
      "24\n",
      "25\n",
      "26\n",
      "27\n",
      "28\n",
      "29\n",
      "30\n",
      "31\n",
      "32\n",
      "33\n",
      "34\n",
      "35\n",
      "36\n",
      "37\n",
      "38\n",
      "39\n",
      "40\n",
      "41\n",
      "42\n",
      "43\n",
      "44\n",
      "45\n",
      "46\n",
      "47\n",
      "48\n",
      "49\n",
      "50\n",
      "51\n",
      "52\n",
      "53\n",
      "54\n",
      "55\n",
      "56\n",
      "57\n",
      "length\n"
     ]
    },
    {
     "name": "stderr",
     "output_type": "stream",
     "text": [
      "\n",
      "100%|██████████| 65/65 [00:00<00:00, 10728.39it/s]"
     ]
    },
    {
     "name": "stdout",
     "output_type": "stream",
     "text": [
      "area\n"
     ]
    },
    {
     "name": "stderr",
     "output_type": "stream",
     "text": [
      "\n",
      "100%|██████████| 63/63 [00:00<00:00, 10627.89it/s]"
     ]
    },
    {
     "name": "stdout",
     "output_type": "stream",
     "text": [
      "1\n",
      "2\n",
      "organizer\n"
     ]
    },
    {
     "name": "stderr",
     "output_type": "stream",
     "text": [
      "\n",
      "100%|██████████| 59/59 [00:00<00:00, 10753.69it/s]"
     ]
    },
    {
     "name": "stdout",
     "output_type": "stream",
     "text": [
      "work period (start)\n"
     ]
    },
    {
     "name": "stderr",
     "output_type": "stream",
     "text": [
      "\n",
      "100%|██████████| 58/58 [00:00<00:00, 10500.70it/s]\n"
     ]
    },
    {
     "name": "stdout",
     "output_type": "stream",
     "text": [
      "1\n",
      "2\n",
      "employer\n"
     ]
    },
    {
     "name": "stderr",
     "output_type": "stream",
     "text": [
      "100%|██████████| 54/54 [00:00<00:00, 10594.15it/s]\n"
     ]
    },
    {
     "name": "stdout",
     "output_type": "stream",
     "text": [
      "1\n",
      "distributed by\n"
     ]
    },
    {
     "name": "stderr",
     "output_type": "stream",
     "text": [
      "100%|██████████| 53/53 [00:00<00:00, 10725.05it/s]\n"
     ]
    },
    {
     "name": "stdout",
     "output_type": "stream",
     "text": [
      "occupation\n"
     ]
    },
    {
     "name": "stderr",
     "output_type": "stream",
     "text": [
      "100%|██████████| 53/53 [00:00<00:00, 10754.11it/s]\n"
     ]
    },
    {
     "name": "stdout",
     "output_type": "stream",
     "text": [
      "service entry\n"
     ]
    },
    {
     "name": "stderr",
     "output_type": "stream",
     "text": [
      "100%|██████████| 53/53 [00:00<00:00, 10247.46it/s]\n"
     ]
    },
    {
     "name": "stdout",
     "output_type": "stream",
     "text": [
      "1\n",
      "2\n",
      "3\n",
      "4\n",
      "language used\n"
     ]
    },
    {
     "name": "stderr",
     "output_type": "stream",
     "text": [
      "100%|██████████| 50/50 [00:00<00:00, 8574.50it/s]\n"
     ]
    },
    {
     "name": "stdout",
     "output_type": "stream",
     "text": [
      "1\n",
      "2\n",
      "3\n",
      "4\n",
      "5\n",
      "6\n",
      "7\n",
      "8\n",
      "9\n",
      "10\n",
      "11\n",
      "12\n",
      "13\n",
      "14\n",
      "15\n",
      "16\n",
      "17\n",
      "18\n",
      "19\n",
      "20\n",
      "21\n",
      "22\n",
      "23\n",
      "24\n",
      "25\n",
      "26\n",
      "27\n",
      "writing system\n"
     ]
    },
    {
     "name": "stderr",
     "output_type": "stream",
     "text": [
      "100%|██████████| 49/49 [00:00<00:00, 9810.53it/s]\n"
     ]
    },
    {
     "name": "stdout",
     "output_type": "stream",
     "text": [
      "1\n",
      "2\n",
      "3\n",
      "4\n",
      "5\n",
      "6\n",
      "7\n",
      "capital\n"
     ]
    },
    {
     "name": "stderr",
     "output_type": "stream",
     "text": [
      "100%|██████████| 48/48 [00:00<00:00, 9494.30it/s]"
     ]
    },
    {
     "name": "stdout",
     "output_type": "stream",
     "text": [
      "1\n",
      "2\n",
      "3\n",
      "4\n",
      "5\n",
      "6\n",
      "7\n",
      "8\n",
      "9\n",
      "10\n"
     ]
    },
    {
     "name": "stderr",
     "output_type": "stream",
     "text": [
      "\n"
     ]
    },
    {
     "name": "stdout",
     "output_type": "stream",
     "text": [
      "part of the series\n"
     ]
    },
    {
     "name": "stderr",
     "output_type": "stream",
     "text": [
      "100%|██████████| 47/47 [00:00<00:00, 9881.81it/s]\n"
     ]
    },
    {
     "name": "stdout",
     "output_type": "stream",
     "text": [
      "1\n",
      "2\n",
      "continent\n"
     ]
    },
    {
     "name": "stderr",
     "output_type": "stream",
     "text": [
      "100%|██████████| 45/45 [00:00<00:00, 8288.77it/s]\n"
     ]
    },
    {
     "name": "stdout",
     "output_type": "stream",
     "text": [
      "1\n",
      "2\n",
      "3\n",
      "4\n",
      "5\n",
      "6\n",
      "7\n",
      "8\n",
      "9\n",
      "10\n",
      "11\n",
      "12\n",
      "13\n",
      "14\n",
      "15\n",
      "16\n",
      "17\n",
      "18\n",
      "19\n",
      "20\n",
      "21\n",
      "22\n",
      "23\n",
      "24\n",
      "25\n",
      "applies to jurisdiction\n"
     ]
    },
    {
     "name": "stderr",
     "output_type": "stream",
     "text": [
      "100%|██████████| 44/44 [00:00<00:00, 8545.14it/s]\n"
     ]
    },
    {
     "name": "stdout",
     "output_type": "stream",
     "text": [
      "1\n",
      "2\n",
      "3\n",
      "4\n",
      "5\n",
      "6\n",
      "7\n",
      "8\n",
      "9\n",
      "10\n",
      "11\n",
      "12\n",
      "13\n",
      "14\n",
      "15\n",
      "16\n",
      "headquarters location\n"
     ]
    },
    {
     "name": "stderr",
     "output_type": "stream",
     "text": [
      "100%|██████████| 41/41 [00:00<00:00, 8706.72it/s]\n"
     ]
    },
    {
     "name": "stdout",
     "output_type": "stream",
     "text": [
      "1\n",
      "2\n",
      "3\n",
      "4\n",
      "5\n",
      "6\n",
      "7\n",
      "located on terrain feature\n"
     ]
    },
    {
     "name": "stderr",
     "output_type": "stream",
     "text": [
      "100%|██████████| 36/36 [00:00<00:00, 9467.95it/s]\n"
     ]
    },
    {
     "name": "stdout",
     "output_type": "stream",
     "text": [
      "1\n",
      "2\n",
      "elevation above sea level\n"
     ]
    },
    {
     "name": "stderr",
     "output_type": "stream",
     "text": [
      "100%|██████████| 35/35 [00:00<00:00, 9605.49it/s]\n"
     ]
    },
    {
     "name": "stdout",
     "output_type": "stream",
     "text": [
      "1\n",
      "educated at\n"
     ]
    },
    {
     "name": "stderr",
     "output_type": "stream",
     "text": [
      "100%|██████████| 35/35 [00:00<00:00, 9674.49it/s]\n"
     ]
    },
    {
     "name": "stdout",
     "output_type": "stream",
     "text": [
      "designed by\n"
     ]
    },
    {
     "name": "stderr",
     "output_type": "stream",
     "text": [
      "100%|██████████| 33/33 [00:00<00:00, 9568.09it/s]"
     ]
    },
    {
     "name": "stdout",
     "output_type": "stream",
     "text": [
      "tributary\n"
     ]
    },
    {
     "name": "stderr",
     "output_type": "stream",
     "text": [
      "\n",
      "100%|██████████| 27/27 [00:00<00:00, 9313.78it/s]\n"
     ]
    },
    {
     "name": "stdout",
     "output_type": "stream",
     "text": [
      "end time\n"
     ]
    },
    {
     "name": "stderr",
     "output_type": "stream",
     "text": [
      "100%|██████████| 27/27 [00:00<00:00, 9183.12it/s]\n"
     ]
    },
    {
     "name": "stdout",
     "output_type": "stream",
     "text": [
      "1\n",
      "mouth of the watercourse\n"
     ]
    },
    {
     "name": "stderr",
     "output_type": "stream",
     "text": [
      "100%|██████████| 26/26 [00:00<00:00, 9115.00it/s]\n"
     ]
    },
    {
     "name": "stdout",
     "output_type": "stream",
     "text": [
      "1\n",
      "country of origin\n"
     ]
    },
    {
     "name": "stderr",
     "output_type": "stream",
     "text": [
      "100%|██████████| 26/26 [00:00<00:00, 7486.23it/s]\n"
     ]
    },
    {
     "name": "stdout",
     "output_type": "stream",
     "text": [
      "1\n",
      "2\n",
      "3\n",
      "4\n",
      "5\n",
      "6\n",
      "7\n",
      "8\n",
      "9\n",
      "10\n",
      "11\n",
      "12\n",
      "13\n",
      "14\n",
      "date of birth\n"
     ]
    },
    {
     "name": "stderr",
     "output_type": "stream",
     "text": [
      "100%|██████████| 25/25 [00:00<00:00, 9166.68it/s]\n"
     ]
    },
    {
     "name": "stdout",
     "output_type": "stream",
     "text": [
      "time period\n"
     ]
    },
    {
     "name": "stderr",
     "output_type": "stream",
     "text": [
      "100%|██████████| 24/24 [00:00<00:00, 9208.13it/s]\n"
     ]
    },
    {
     "name": "stdout",
     "output_type": "stream",
     "text": [
      "award received\n"
     ]
    },
    {
     "name": "stderr",
     "output_type": "stream",
     "text": [
      "100%|██████████| 23/23 [00:00<00:00, 9122.36it/s]\n"
     ]
    },
    {
     "name": "stdout",
     "output_type": "stream",
     "text": [
      "stock exchange\n"
     ]
    },
    {
     "name": "stderr",
     "output_type": "stream",
     "text": [
      "100%|██████████| 22/22 [00:00<00:00, 8719.97it/s]\n"
     ]
    },
    {
     "name": "stdout",
     "output_type": "stream",
     "text": [
      "1\n",
      "2\n",
      "present in work\n"
     ]
    },
    {
     "name": "stderr",
     "output_type": "stream",
     "text": [
      "100%|██████████| 22/22 [00:00<00:00, 9057.19it/s]\n"
     ]
    },
    {
     "name": "stdout",
     "output_type": "stream",
     "text": [
      "maintained by\n"
     ]
    },
    {
     "name": "stderr",
     "output_type": "stream",
     "text": [
      "100%|██████████| 21/21 [00:00<00:00, 9047.81it/s]\n"
     ]
    },
    {
     "name": "stdout",
     "output_type": "stream",
     "text": [
      "taxonomic type\n"
     ]
    },
    {
     "name": "stderr",
     "output_type": "stream",
     "text": [
      "100%|██████████| 20/20 [00:00<00:00, 8894.72it/s]\n"
     ]
    },
    {
     "name": "stdout",
     "output_type": "stream",
     "text": [
      "number of episodes\n"
     ]
    },
    {
     "name": "stderr",
     "output_type": "stream",
     "text": [
      "100%|██████████| 19/19 [00:00<00:00, 8707.58it/s]\n"
     ]
    },
    {
     "name": "stdout",
     "output_type": "stream",
     "text": [
      "1\n",
      "characters\n"
     ]
    },
    {
     "name": "stderr",
     "output_type": "stream",
     "text": [
      "100%|██████████| 19/19 [00:00<00:00, 8761.19it/s]\n"
     ]
    },
    {
     "name": "stdout",
     "output_type": "stream",
     "text": [
      "sports discipline competed in\n"
     ]
    },
    {
     "name": "stderr",
     "output_type": "stream",
     "text": [
      "100%|██████████| 16/16 [00:00<00:00, 8626.93it/s]\n"
     ]
    },
    {
     "name": "stdout",
     "output_type": "stream",
     "text": [
      "member of political party\n"
     ]
    },
    {
     "name": "stderr",
     "output_type": "stream",
     "text": [
      "100%|██████████| 16/16 [00:00<00:00, 8804.63it/s]\n"
     ]
    },
    {
     "name": "stdout",
     "output_type": "stream",
     "text": [
      "movement\n"
     ]
    },
    {
     "name": "stderr",
     "output_type": "stream",
     "text": [
      "100%|██████████| 15/15 [00:00<00:00, 8577.31it/s]\n"
     ]
    },
    {
     "name": "stdout",
     "output_type": "stream",
     "text": [
      "father\n"
     ]
    },
    {
     "name": "stderr",
     "output_type": "stream",
     "text": [
      "100%|██████████| 14/14 [00:00<00:00, 8441.67it/s]\n"
     ]
    },
    {
     "name": "stdout",
     "output_type": "stream",
     "text": [
      "work location\n"
     ]
    },
    {
     "name": "stderr",
     "output_type": "stream",
     "text": [
      "100%|██████████| 13/13 [00:00<00:00, 7942.60it/s]\n"
     ]
    },
    {
     "name": "stdout",
     "output_type": "stream",
     "text": [
      "1\n",
      "sports season of league or competition\n"
     ]
    },
    {
     "name": "stderr",
     "output_type": "stream",
     "text": [
      "100%|██████████| 13/13 [00:00<00:00, 8565.18it/s]\n"
     ]
    },
    {
     "name": "stdout",
     "output_type": "stream",
     "text": [
      "position held\n"
     ]
    },
    {
     "name": "stderr",
     "output_type": "stream",
     "text": [
      "100%|██████████| 13/13 [00:00<00:00, 8334.75it/s]\n"
     ]
    },
    {
     "name": "stdout",
     "output_type": "stream",
     "text": [
      "endemic to\n"
     ]
    },
    {
     "name": "stderr",
     "output_type": "stream",
     "text": [
      "100%|██████████| 12/12 [00:00<00:00, 7837.38it/s]\n"
     ]
    },
    {
     "name": "stdout",
     "output_type": "stream",
     "text": [
      "1\n",
      "capital of\n"
     ]
    },
    {
     "name": "stderr",
     "output_type": "stream",
     "text": [
      "100%|██████████| 12/12 [00:00<00:00, 7356.28it/s]\n"
     ]
    },
    {
     "name": "stdout",
     "output_type": "stream",
     "text": [
      "1\n",
      "2\n",
      "3\n",
      "4\n",
      "encodes\n"
     ]
    },
    {
     "name": "stderr",
     "output_type": "stream",
     "text": [
      "100%|██████████| 12/12 [00:00<00:00, 8129.81it/s]\n"
     ]
    },
    {
     "name": "stdout",
     "output_type": "stream",
     "text": [
      "child\n"
     ]
    },
    {
     "name": "stderr",
     "output_type": "stream",
     "text": [
      "100%|██████████| 12/12 [00:00<00:00, 8276.87it/s]\n"
     ]
    },
    {
     "name": "stdout",
     "output_type": "stream",
     "text": [
      "editor\n"
     ]
    },
    {
     "name": "stderr",
     "output_type": "stream",
     "text": [
      "100%|██████████| 12/12 [00:00<00:00, 7870.47it/s]\n"
     ]
    },
    {
     "name": "stdout",
     "output_type": "stream",
     "text": [
      "1\n",
      "2\n",
      "3\n",
      "4\n",
      "composer\n"
     ]
    },
    {
     "name": "stderr",
     "output_type": "stream",
     "text": [
      "100%|██████████| 12/12 [00:00<00:00, 8168.07it/s]\n"
     ]
    },
    {
     "name": "stdout",
     "output_type": "stream",
     "text": [
      "winner\n"
     ]
    },
    {
     "name": "stderr",
     "output_type": "stream",
     "text": [
      "100%|██████████| 11/11 [00:00<00:00, 7949.23it/s]\n"
     ]
    },
    {
     "name": "stdout",
     "output_type": "stream",
     "text": [
      "event distance\n"
     ]
    },
    {
     "name": "stderr",
     "output_type": "stream",
     "text": [
      "100%|██████████| 10/10 [00:00<00:00, 7925.74it/s]\n"
     ]
    },
    {
     "name": "stdout",
     "output_type": "stream",
     "text": [
      "founded by\n"
     ]
    },
    {
     "name": "stderr",
     "output_type": "stream",
     "text": [
      "100%|██████████| 10/10 [00:00<00:00, 7833.96it/s]\n"
     ]
    },
    {
     "name": "stdout",
     "output_type": "stream",
     "text": [
      "conferred by\n"
     ]
    },
    {
     "name": "stderr",
     "output_type": "stream",
     "text": [
      "100%|██████████| 9/9 [00:00<00:00, 7838.19it/s]\n"
     ]
    },
    {
     "name": "stdout",
     "output_type": "stream",
     "text": [
      "affiliation\n"
     ]
    },
    {
     "name": "stderr",
     "output_type": "stream",
     "text": [
      "100%|██████████| 9/9 [00:00<00:00, 7749.69it/s]\n"
     ]
    },
    {
     "name": "stdout",
     "output_type": "stream",
     "text": [
      "architect\n"
     ]
    },
    {
     "name": "stderr",
     "output_type": "stream",
     "text": [
      "100%|██████████| 9/9 [00:00<00:00, 7672.51it/s]\n"
     ]
    },
    {
     "name": "stdout",
     "output_type": "stream",
     "text": [
      "basin country\n"
     ]
    },
    {
     "name": "stderr",
     "output_type": "stream",
     "text": [
      "100%|██████████| 9/9 [00:00<00:00, 6297.75it/s]\n"
     ]
    },
    {
     "name": "stdout",
     "output_type": "stream",
     "text": [
      "1\n",
      "2\n",
      "3\n",
      "4\n",
      "5\n",
      "6\n",
      "date of death\n"
     ]
    },
    {
     "name": "stderr",
     "output_type": "stream",
     "text": [
      "100%|██████████| 8/8 [00:00<00:00, 7369.74it/s]\n"
     ]
    },
    {
     "name": "stdout",
     "output_type": "stream",
     "text": [
      "religious order\n"
     ]
    },
    {
     "name": "stderr",
     "output_type": "stream",
     "text": [
      "100%|██████████| 7/7 [00:00<00:00, 7154.03it/s]\n"
     ]
    },
    {
     "name": "stdout",
     "output_type": "stream",
     "text": [
      "performer\n"
     ]
    },
    {
     "name": "stderr",
     "output_type": "stream",
     "text": [
      "100%|██████████| 7/7 [00:00<00:00, 7222.66it/s]\n"
     ]
    },
    {
     "name": "stdout",
     "output_type": "stream",
     "text": [
      "conflict\n"
     ]
    },
    {
     "name": "stderr",
     "output_type": "stream",
     "text": [
      "100%|██████████| 7/7 [00:00<00:00, 6299.10it/s]\n"
     ]
    },
    {
     "name": "stdout",
     "output_type": "stream",
     "text": [
      "1\n",
      "2\n",
      "3\n",
      "religion\n"
     ]
    },
    {
     "name": "stderr",
     "output_type": "stream",
     "text": [
      "100%|██████████| 7/7 [00:00<00:00, 7045.87it/s]\n"
     ]
    },
    {
     "name": "stdout",
     "output_type": "stream",
     "text": [
      "country of citizenship\n"
     ]
    },
    {
     "name": "stderr",
     "output_type": "stream",
     "text": [
      "100%|██████████| 7/7 [00:00<00:00, 6584.46it/s]\n"
     ]
    },
    {
     "name": "stdout",
     "output_type": "stream",
     "text": [
      "1\n",
      "location of formation\n"
     ]
    },
    {
     "name": "stderr",
     "output_type": "stream",
     "text": [
      "100%|██████████| 6/6 [00:00<00:00, 5882.61it/s]\n"
     ]
    },
    {
     "name": "stdout",
     "output_type": "stream",
     "text": [
      "1\n",
      "league\n"
     ]
    },
    {
     "name": "stderr",
     "output_type": "stream",
     "text": [
      "100%|██████████| 6/6 [00:00<00:00, 6759.56it/s]\n"
     ]
    },
    {
     "name": "stdout",
     "output_type": "stream",
     "text": [
      "mountain range\n"
     ]
    },
    {
     "name": "stderr",
     "output_type": "stream",
     "text": [
      "100%|██████████| 6/6 [00:00<00:00, 6885.31it/s]\n"
     ]
    },
    {
     "name": "stdout",
     "output_type": "stream",
     "text": [
      "family\n"
     ]
    },
    {
     "name": "stderr",
     "output_type": "stream",
     "text": [
      "100%|██████████| 6/6 [00:00<00:00, 7004.13it/s]\n"
     ]
    },
    {
     "name": "stdout",
     "output_type": "stream",
     "text": [
      "population\n"
     ]
    },
    {
     "name": "stderr",
     "output_type": "stream",
     "text": [
      "100%|██████████| 6/6 [00:00<00:00, 7009.98it/s]\n"
     ]
    },
    {
     "name": "stdout",
     "output_type": "stream",
     "text": [
      "number of articles\n"
     ]
    },
    {
     "name": "stderr",
     "output_type": "stream",
     "text": [
      "100%|██████████| 5/5 [00:00<00:00, 6107.02it/s]\n"
     ]
    },
    {
     "name": "stdout",
     "output_type": "stream",
     "text": [
      "1\n",
      "2\n",
      "3\n",
      "4\n",
      "dissolved, abolished or demolished date\n"
     ]
    },
    {
     "name": "stderr",
     "output_type": "stream",
     "text": [
      "100%|██████████| 5/5 [00:00<00:00, 5945.99it/s]\n"
     ]
    },
    {
     "name": "stdout",
     "output_type": "stream",
     "text": [
      "1\n",
      "sports league level\n"
     ]
    },
    {
     "name": "stderr",
     "output_type": "stream",
     "text": [
      "100%|██████████| 5/5 [00:00<00:00, 6601.05it/s]\n"
     ]
    },
    {
     "name": "stdout",
     "output_type": "stream",
     "text": [
      "candidate\n"
     ]
    },
    {
     "name": "stderr",
     "output_type": "stream",
     "text": [
      "100%|██████████| 5/5 [00:00<00:00, 6666.09it/s]\n"
     ]
    },
    {
     "name": "stdout",
     "output_type": "stream",
     "text": [
      "operating area\n"
     ]
    },
    {
     "name": "stderr",
     "output_type": "stream",
     "text": [
      "100%|██████████| 5/5 [00:00<00:00, 5649.66it/s]\n"
     ]
    },
    {
     "name": "stdout",
     "output_type": "stream",
     "text": [
      "1\n",
      "2\n",
      "place served by transport hub\n"
     ]
    },
    {
     "name": "stderr",
     "output_type": "stream",
     "text": [
      "100%|██████████| 4/4 [00:00<00:00, 6129.78it/s]\n"
     ]
    },
    {
     "name": "stdout",
     "output_type": "stream",
     "text": [
      "ranking\n"
     ]
    },
    {
     "name": "stderr",
     "output_type": "stream",
     "text": [
      "100%|██████████| 4/4 [00:00<00:00, 5868.21it/s]\n"
     ]
    },
    {
     "name": "stdout",
     "output_type": "stream",
     "text": [
      "1\n",
      "part\n"
     ]
    },
    {
     "name": "stderr",
     "output_type": "stream",
     "text": [
      "100%|██████████| 4/4 [00:00<00:00, 6154.52it/s]\n"
     ]
    },
    {
     "name": "stdout",
     "output_type": "stream",
     "text": [
      "indigenous to\n"
     ]
    },
    {
     "name": "stderr",
     "output_type": "stream",
     "text": [
      "100%|██████████| 4/4 [00:00<00:00, 6107.47it/s]\n"
     ]
    },
    {
     "name": "stdout",
     "output_type": "stream",
     "text": [
      "number of characters\n"
     ]
    },
    {
     "name": "stderr",
     "output_type": "stream",
     "text": [
      "100%|██████████| 4/4 [00:00<00:00, 6100.81it/s]\n"
     ]
    },
    {
     "name": "stdout",
     "output_type": "stream",
     "text": [
      "highest point\n"
     ]
    },
    {
     "name": "stderr",
     "output_type": "stream",
     "text": [
      "100%|██████████| 4/4 [00:00<00:00, 5917.89it/s]\n"
     ]
    },
    {
     "name": "stdout",
     "output_type": "stream",
     "text": [
      "1\n",
      "candidacy in election\n"
     ]
    },
    {
     "name": "stderr",
     "output_type": "stream",
     "text": [
      "100%|██████████| 4/4 [00:00<00:00, 6098.59it/s]\n"
     ]
    },
    {
     "name": "stdout",
     "output_type": "stream",
     "text": [
      "legislative body\n"
     ]
    },
    {
     "name": "stderr",
     "output_type": "stream",
     "text": [
      "100%|██████████| 4/4 [00:00<00:00, 6141.00it/s]\n"
     ]
    },
    {
     "name": "stdout",
     "output_type": "stream",
     "text": [
      "legislated by\n"
     ]
    },
    {
     "name": "stderr",
     "output_type": "stream",
     "text": [
      "100%|██████████| 4/4 [00:00<00:00, 5930.44it/s]\n"
     ]
    },
    {
     "name": "stdout",
     "output_type": "stream",
     "text": [
      "carries\n"
     ]
    },
    {
     "name": "stderr",
     "output_type": "stream",
     "text": [
      "100%|██████████| 3/3 [00:00<00:00, 5208.16it/s]\n"
     ]
    },
    {
     "name": "stdout",
     "output_type": "stream",
     "text": [
      "ethnic group\n"
     ]
    },
    {
     "name": "stderr",
     "output_type": "stream",
     "text": [
      "100%|██████████| 3/3 [00:00<00:00, 5131.69it/s]\n"
     ]
    },
    {
     "name": "stdout",
     "output_type": "stream",
     "text": [
      "1\n",
      "officeholder\n"
     ]
    },
    {
     "name": "stderr",
     "output_type": "stream",
     "text": [
      "100%|██████████| 3/3 [00:00<00:00, 5440.08it/s]\n"
     ]
    },
    {
     "name": "stdout",
     "output_type": "stream",
     "text": [
      "mother\n"
     ]
    },
    {
     "name": "stderr",
     "output_type": "stream",
     "text": [
      "100%|██████████| 3/3 [00:00<00:00, 5414.33it/s]\n"
     ]
    },
    {
     "name": "stdout",
     "output_type": "stream",
     "text": [
      "court\n"
     ]
    },
    {
     "name": "stderr",
     "output_type": "stream",
     "text": [
      "100%|██████████| 3/3 [00:00<00:00, 5386.52it/s]\n"
     ]
    },
    {
     "name": "stdout",
     "output_type": "stream",
     "text": [
      "cast member\n"
     ]
    },
    {
     "name": "stderr",
     "output_type": "stream",
     "text": [
      "100%|██████████| 3/3 [00:00<00:00, 5313.73it/s]\n"
     ]
    },
    {
     "name": "stdout",
     "output_type": "stream",
     "text": [
      "member of sports team\n"
     ]
    },
    {
     "name": "stderr",
     "output_type": "stream",
     "text": [
      "100%|██████████| 3/3 [00:00<00:00, 5400.39it/s]\n"
     ]
    },
    {
     "name": "stdout",
     "output_type": "stream",
     "text": [
      "office held by head of government\n"
     ]
    },
    {
     "name": "stderr",
     "output_type": "stream",
     "text": [
      "100%|██████████| 3/3 [00:00<00:00, 5275.85it/s]\n"
     ]
    },
    {
     "name": "stdout",
     "output_type": "stream",
     "text": [
      "presenter\n"
     ]
    },
    {
     "name": "stderr",
     "output_type": "stream",
     "text": [
      "100%|██████████| 3/3 [00:00<00:00, 4750.06it/s]\n"
     ]
    },
    {
     "name": "stdout",
     "output_type": "stream",
     "text": [
      "origin of the watercourse\n"
     ]
    },
    {
     "name": "stderr",
     "output_type": "stream",
     "text": [
      "100%|██████████| 3/3 [00:00<00:00, 4610.81it/s]\n"
     ]
    },
    {
     "name": "stdout",
     "output_type": "stream",
     "text": [
      "instrument\n"
     ]
    },
    {
     "name": "stderr",
     "output_type": "stream",
     "text": [
      "100%|██████████| 3/3 [00:00<00:00, 4815.50it/s]\n"
     ]
    },
    {
     "name": "stdout",
     "output_type": "stream",
     "text": [
      "1\n",
      "occupant\n"
     ]
    },
    {
     "name": "stderr",
     "output_type": "stream",
     "text": [
      "100%|██████████| 3/3 [00:00<00:00, 5402.71it/s]\n"
     ]
    },
    {
     "name": "stdout",
     "output_type": "stream",
     "text": [
      "office held by head of the organization\n"
     ]
    },
    {
     "name": "stderr",
     "output_type": "stream",
     "text": [
      "100%|██████████| 2/2 [00:00<00:00, 4266.84it/s]\n"
     ]
    },
    {
     "name": "stdout",
     "output_type": "stream",
     "text": [
      "1\n",
      "place of burial\n"
     ]
    },
    {
     "name": "stderr",
     "output_type": "stream",
     "text": [
      "100%|██████████| 2/2 [00:00<00:00, 4536.84it/s]\n"
     ]
    },
    {
     "name": "stdout",
     "output_type": "stream",
     "text": [
      "production company\n"
     ]
    },
    {
     "name": "stderr",
     "output_type": "stream",
     "text": [
      "100%|██████████| 2/2 [00:00<00:00, 4517.29it/s]\n"
     ]
    },
    {
     "name": "stdout",
     "output_type": "stream",
     "text": [
      "shares border\n"
     ]
    },
    {
     "name": "stderr",
     "output_type": "stream",
     "text": [
      "100%|██████████| 2/2 [00:00<00:00, 4485.89it/s]\n"
     ]
    },
    {
     "name": "stdout",
     "output_type": "stream",
     "text": [
      "collection\n"
     ]
    },
    {
     "name": "stderr",
     "output_type": "stream",
     "text": [
      "100%|██████████| 2/2 [00:00<00:00, 4571.45it/s]\n"
     ]
    },
    {
     "name": "stdout",
     "output_type": "stream",
     "text": [
      "instance\n"
     ]
    },
    {
     "name": "stderr",
     "output_type": "stream",
     "text": [
      "100%|██████████| 2/2 [00:00<00:00, 4445.47it/s]\n"
     ]
    },
    {
     "name": "stdout",
     "output_type": "stream",
     "text": [
      "appointed by\n"
     ]
    },
    {
     "name": "stderr",
     "output_type": "stream",
     "text": [
      "100%|██████████| 2/2 [00:00<00:00, 4436.07it/s]\n"
     ]
    },
    {
     "name": "stdout",
     "output_type": "stream",
     "text": [
      "political ideology\n"
     ]
    },
    {
     "name": "stderr",
     "output_type": "stream",
     "text": [
      "100%|██████████| 2/2 [00:00<00:00, 4507.58it/s]\n"
     ]
    },
    {
     "name": "stdout",
     "output_type": "stream",
     "text": [
      "start point\n"
     ]
    },
    {
     "name": "stderr",
     "output_type": "stream",
     "text": [
      "100%|██████████| 2/2 [00:00<00:00, 4450.19it/s]\n"
     ]
    },
    {
     "name": "stdout",
     "output_type": "stream",
     "text": [
      "original broadcaster\n"
     ]
    },
    {
     "name": "stderr",
     "output_type": "stream",
     "text": [
      "100%|██████████| 2/2 [00:00<00:00, 4337.44it/s]\n"
     ]
    },
    {
     "name": "stdout",
     "output_type": "stream",
     "text": [
      "BBB\n"
     ]
    },
    {
     "name": "stderr",
     "output_type": "stream",
     "text": [
      "100%|██████████| 2/2 [00:00<00:00, 4440.77it/s]\n"
     ]
    },
    {
     "name": "stdout",
     "output_type": "stream",
     "text": [
      "authority\n"
     ]
    },
    {
     "name": "stderr",
     "output_type": "stream",
     "text": [
      "100%|██████████| 2/2 [00:00<00:00, 4485.89it/s]\n"
     ]
    },
    {
     "name": "stdout",
     "output_type": "stream",
     "text": [
      "subclass of <triplet>omega\n"
     ]
    },
    {
     "name": "stderr",
     "output_type": "stream",
     "text": [
      "100%|██████████| 1/1 [00:00<00:00, 3030.57it/s]\n"
     ]
    },
    {
     "name": "stdout",
     "output_type": "stream",
     "text": [
      "age\n"
     ]
    },
    {
     "name": "stderr",
     "output_type": "stream",
     "text": [
      "100%|██████████| 1/1 [00:00<00:00, 3063.77it/s]\n"
     ]
    },
    {
     "name": "stdout",
     "output_type": "stream",
     "text": [
      "place of birth\n"
     ]
    },
    {
     "name": "stderr",
     "output_type": "stream",
     "text": [
      "100%|██████████| 1/1 [00:00<00:00, 2702.52it/s]\n"
     ]
    },
    {
     "name": "stdout",
     "output_type": "stream",
     "text": [
      "1\n",
      "inflows\n"
     ]
    },
    {
     "name": "stderr",
     "output_type": "stream",
     "text": [
      "100%|██████████| 1/1 [00:00<00:00, 3045.97it/s]\n"
     ]
    },
    {
     "name": "stdout",
     "output_type": "stream",
     "text": [
      "number of possibilities\n"
     ]
    },
    {
     "name": "stderr",
     "output_type": "stream",
     "text": [
      "100%|██████████| 1/1 [00:00<00:00, 2723.57it/s]\n"
     ]
    },
    {
     "name": "stdout",
     "output_type": "stream",
     "text": [
      "1\n",
      "architectural style\n"
     ]
    },
    {
     "name": "stderr",
     "output_type": "stream",
     "text": [
      "100%|██████████| 1/1 [00:00<00:00, 3006.67it/s]\n"
     ]
    },
    {
     "name": "stdout",
     "output_type": "stream",
     "text": [
      "number of stages\n"
     ]
    },
    {
     "name": "stderr",
     "output_type": "stream",
     "text": [
      "100%|██████████| 1/1 [00:00<00:00, 3030.57it/s]\n"
     ]
    },
    {
     "name": "stdout",
     "output_type": "stream",
     "text": [
      "opposite of perfect matchings\n"
     ]
    },
    {
     "name": "stderr",
     "output_type": "stream",
     "text": [
      "100%|██████████| 1/1 [00:00<00:00, 2974.68it/s]\n"
     ]
    },
    {
     "name": "stdout",
     "output_type": "stream",
     "text": [
      "place of death\n"
     ]
    },
    {
     "name": "stderr",
     "output_type": "stream",
     "text": [
      "100%|██████████| 1/1 [00:00<00:00, 3079.52it/s]\n"
     ]
    },
    {
     "name": "stdout",
     "output_type": "stream",
     "text": [
      "season of club or team\n"
     ]
    },
    {
     "name": "stderr",
     "output_type": "stream",
     "text": [
      "100%|██████████| 1/1 [00:00<00:00, 2962.08it/s]\n"
     ]
    },
    {
     "name": "stdout",
     "output_type": "stream",
     "text": [
      "crosses\n"
     ]
    },
    {
     "name": "stderr",
     "output_type": "stream",
     "text": [
      "100%|██████████| 1/1 [00:00<00:00, 2878.73it/s]\n"
     ]
    },
    {
     "name": "stdout",
     "output_type": "stream",
     "text": [
      "successful candidate\n"
     ]
    },
    {
     "name": "stderr",
     "output_type": "stream",
     "text": [
      "100%|██████████| 1/1 [00:00<00:00, 3008.83it/s]\n"
     ]
    },
    {
     "name": "stdout",
     "output_type": "stream",
     "text": [
      "diocese\n"
     ]
    },
    {
     "name": "stderr",
     "output_type": "stream",
     "text": [
      "100%|██████████| 1/1 [00:00<00:00, 2341.88it/s]\n"
     ]
    },
    {
     "name": "stdout",
     "output_type": "stream",
     "text": [
      "performance level\n"
     ]
    },
    {
     "name": "stderr",
     "output_type": "stream",
     "text": [
      "100%|██████████| 1/1 [00:00<00:00, 2448.51it/s]\n"
     ]
    },
    {
     "name": "stdout",
     "output_type": "stream",
     "text": [
      "military rank\n"
     ]
    },
    {
     "name": "stderr",
     "output_type": "stream",
     "text": [
      "100%|██████████| 1/1 [00:00<00:00, 2739.58it/s]\n"
     ]
    },
    {
     "name": "stdout",
     "output_type": "stream",
     "text": [
      "located on street\n"
     ]
    },
    {
     "name": "stderr",
     "output_type": "stream",
     "text": [
      "100%|██████████| 1/1 [00:00<00:00, 2890.63it/s]\n"
     ]
    },
    {
     "name": "stdout",
     "output_type": "stream",
     "text": [
      "subclass of <triplet>'myosin'\n"
     ]
    },
    {
     "name": "stderr",
     "output_type": "stream",
     "text": [
      "100%|██████████| 1/1 [00:00<00:00, 2943.37it/s]\n"
     ]
    },
    {
     "name": "stdout",
     "output_type": "stream",
     "text": [
      "part of the paper present such a cognitive architecture\n"
     ]
    },
    {
     "name": "stderr",
     "output_type": "stream",
     "text": [
      "100%|██████████| 1/1 [00:00<00:00, 2976.79it/s]\n"
     ]
    },
    {
     "name": "stdout",
     "output_type": "stream",
     "text": [
      "has\n"
     ]
    },
    {
     "name": "stderr",
     "output_type": "stream",
     "text": [
      "100%|██████████| 1/1 [00:00<00:00, 2983.15it/s]\n"
     ]
    },
    {
     "name": "stdout",
     "output_type": "stream",
     "text": [
      "home venue\n"
     ]
    },
    {
     "name": "stderr",
     "output_type": "stream",
     "text": [
      "100%|██████████| 1/1 [00:00<00:00, 2943.37it/s]\n"
     ]
    },
    {
     "name": "stdout",
     "output_type": "stream",
     "text": [
      "site of astronomical\n"
     ]
    },
    {
     "name": "stderr",
     "output_type": "stream",
     "text": [
      "100%|██████████| 1/1 [00:00<00:00, 2941.31it/s]\n"
     ]
    },
    {
     "name": "stdout",
     "output_type": "stream",
     "text": [
      "instance of <triplet>'second class' constraint\n"
     ]
    },
    {
     "name": "stderr",
     "output_type": "stream",
     "text": [
      "100%|██████████| 1/1 [00:00<00:00, 2987.40it/s]\n"
     ]
    },
    {
     "name": "stdout",
     "output_type": "stream",
     "text": [
      "place in the history of fluid mechanics\n"
     ]
    },
    {
     "name": "stderr",
     "output_type": "stream",
     "text": [
      "100%|██████████| 1/1 [00:00<00:00, 2832.08it/s]\n"
     ]
    },
    {
     "name": "stdout",
     "output_type": "stream",
     "text": [
      "opposite of complementary way of approaching this problem\n"
     ]
    },
    {
     "name": "stderr",
     "output_type": "stream",
     "text": [
      "100%|██████████| 1/1 [00:00<00:00, 2904.64it/s]\n"
     ]
    },
    {
     "name": "stdout",
     "output_type": "stream",
     "text": [
      "position played on team / speciality\n"
     ]
    },
    {
     "name": "stderr",
     "output_type": "stream",
     "text": [
      "100%|██████████| 1/1 [00:00<00:00, 2935.13it/s]\n"
     ]
    },
    {
     "name": "stdout",
     "output_type": "stream",
     "text": [
      "above sea level\n"
     ]
    },
    {
     "name": "stderr",
     "output_type": "stream",
     "text": [
      "100%|██████████| 1/1 [00:00<00:00, 2976.79it/s]\n"
     ]
    },
    {
     "name": "stdout",
     "output_type": "stream",
     "text": [
      "area of work\n"
     ]
    },
    {
     "name": "stderr",
     "output_type": "stream",
     "text": [
      "100%|██████████| 1/1 [00:00<00:00, 2939.25it/s]\n"
     ]
    },
    {
     "name": "stdout",
     "output_type": "stream",
     "text": [
      "number of users\n"
     ]
    },
    {
     "name": "stderr",
     "output_type": "stream",
     "text": [
      "100%|██████████| 1/1 [00:00<00:00, 2962.08it/s]\n"
     ]
    },
    {
     "name": "stdout",
     "output_type": "stream",
     "text": [
      "FPS\n"
     ]
    },
    {
     "name": "stderr",
     "output_type": "stream",
     "text": [
      "100%|██████████| 1/1 [00:00<00:00, 2970.47it/s]\n"
     ]
    },
    {
     "name": "stdout",
     "output_type": "stream",
     "text": [
      "part of CCDA\n"
     ]
    },
    {
     "name": "stderr",
     "output_type": "stream",
     "text": [
      "100%|██████████| 1/1 [00:00<00:00, 2995.93it/s]\n"
     ]
    },
    {
     "name": "stdout",
     "output_type": "stream",
     "text": [
      "subclass\n"
     ]
    },
    {
     "name": "stderr",
     "output_type": "stream",
     "text": [
      "100%|██████████| 1/1 [00:00<00:00, 2949.58it/s]\n"
     ]
    },
    {
     "name": "stdout",
     "output_type": "stream",
     "text": [
      "follows Trang's work in 8\n"
     ]
    },
    {
     "name": "stderr",
     "output_type": "stream",
     "text": [
      "100%|██████████| 1/1 [00:00<00:00, 2966.27it/s]\n"
     ]
    },
    {
     "name": "stdout",
     "output_type": "stream",
     "text": [
      "number of lines\n"
     ]
    },
    {
     "name": "stderr",
     "output_type": "stream",
     "text": [
      "100%|██████████| 1/1 [00:00<00:00, 2951.66it/s]\n"
     ]
    },
    {
     "name": "stdout",
     "output_type": "stream",
     "text": [
      "connecting line\n"
     ]
    },
    {
     "name": "stderr",
     "output_type": "stream",
     "text": [
      "100%|██████████| 1/1 [00:00<00:00, 2953.74it/s]\n"
     ]
    },
    {
     "name": "stdout",
     "output_type": "stream",
     "text": [
      "part of <triplet>maser\n"
     ]
    },
    {
     "name": "stderr",
     "output_type": "stream",
     "text": [
      "100%|██████████| 1/1 [00:00<00:00, 2962.08it/s]\n"
     ]
    },
    {
     "name": "stdout",
     "output_type": "stream",
     "text": [
      "located in the administrative territorial\n"
     ]
    },
    {
     "name": "stderr",
     "output_type": "stream",
     "text": [
      "100%|██████████| 1/1 [00:00<00:00, 2964.17it/s]\n"
     ]
    },
    {
     "name": "stdout",
     "output_type": "stream",
     "text": [
      "number of parameters\n"
     ]
    },
    {
     "name": "stderr",
     "output_type": "stream",
     "text": [
      "100%|██████████| 1/1 [00:00<00:00, 2922.86it/s]\n"
     ]
    },
    {
     "name": "stdout",
     "output_type": "stream",
     "text": [
      "number of dimensions\n"
     ]
    },
    {
     "name": "stderr",
     "output_type": "stream",
     "text": [
      "100%|██████████| 1/1 [00:00<00:00, 3006.67it/s]\n"
     ]
    },
    {
     "name": "stdout",
     "output_type": "stream",
     "text": [
      "part of PCAC\n"
     ]
    },
    {
     "name": "stderr",
     "output_type": "stream",
     "text": [
      "100%|██████████| 1/1 [00:00<00:00, 2951.66it/s]\n"
     ]
    }
   ],
   "source": [
    "random_edges = random_subgraph(relations =rebel_rels_no_duplicates)"
   ]
  },
  {
   "cell_type": "code",
   "execution_count": 7,
   "id": "3fae4989-b722-475b-927f-dbf90e62fbe8",
   "metadata": {},
   "outputs": [],
   "source": [
    "df = pd.DataFrame(random_edges, columns=['edge', 'source', 'target'])"
   ]
  },
  {
   "cell_type": "code",
   "execution_count": 10,
   "id": "7f316da6-5e72-49ac-9780-0cead4a95045",
   "metadata": {},
   "outputs": [],
   "source": [
    "import random\n",
    "from random import randint\n",
    "def generate_color_map(data):\n",
    "\n",
    "    random.seed(42)\n",
    "    color = []\n",
    "    n = len(data.edge.value_counts())\n",
    "\n",
    "    for i in range(n):\n",
    "        color.append('#%06X' % randint(0, 0xFFFFFF))\n",
    "\n",
    "    color_map = dict(zip(list(data.edge.value_counts().index), \n",
    "                     color))\n",
    "    return color_map"
   ]
  },
  {
   "cell_type": "code",
   "execution_count": 11,
   "id": "161b7514-9ea6-486e-9d85-4acce388261b",
   "metadata": {},
   "outputs": [],
   "source": [
    "color_map = generate_color_map(df)"
   ]
  },
  {
   "cell_type": "code",
   "execution_count": 12,
   "id": "2ba355f4-1c16-493b-ae5e-48b254cbaf7e",
   "metadata": {},
   "outputs": [
    {
     "data": {
      "text/plain": [
       "{'part of': '#390062',\n",
       " 'subclass of': '#0CCE35',\n",
       " 'point in time': '#8CD0A4',\n",
       " 'has parts of the class': '#7D6277',\n",
       " 'product or material produced': '#7248AD',\n",
       " 'depicts': '#477183',\n",
       " 'field of this occupation': '#347A3F',\n",
       " 'practiced by': '#2C833F',\n",
       " 'influenced by': '#D80623',\n",
       " 'developer': '#1045D1',\n",
       " 'programming language': '#0F4194',\n",
       " 'shares border with': '#2FF8D2',\n",
       " 'author': '#6FF151',\n",
       " 'publication date': '#771F54',\n",
       " 'derivative work': '#0D961F',\n",
       " 'site of astronomical discovery': '#65CE0C',\n",
       " 'owned by': '#D6CB4D',\n",
       " 'inception': '#70DD97',\n",
       " 'owner of': '#E5FEBA',\n",
       " 'main subject': '#8E6F03',\n",
       " 'based on': '#0353CE',\n",
       " 'field of work': '#51BEDD',\n",
       " 'different from': '#D860EA',\n",
       " 'instance of': '#AE3550',\n",
       " 'has part': '#8E4527',\n",
       " 'facet of': '#4F9B02',\n",
       " 'opposite of': '#6E3D9A',\n",
       " 'studied by': '#AC561E',\n",
       " 'studies': '#3454E7',\n",
       " 'use': '#2F7C62',\n",
       " 'uses': '#C285D4',\n",
       " 'named after': '#3184CF',\n",
       " 'has effect': '#B7CC25',\n",
       " 'has cause': '#B01AF6',\n",
       " 'followed by': '#876F47',\n",
       " 'follows': '#163F22',\n",
       " 'used by': '#EB39BC',\n",
       " 'said to be the same as': '#3FE936',\n",
       " 'discoverer or inventor': '#C1CF42',\n",
       " 'participant': '#28587F'}"
      ]
     },
     "execution_count": 12,
     "metadata": {},
     "output_type": "execute_result"
    }
   ],
   "source": [
    "color_map"
   ]
  },
  {
   "cell_type": "code",
   "execution_count": 26,
   "id": "89c35578-3a33-468b-bd1d-999f16b2292e",
   "metadata": {},
   "outputs": [],
   "source": [
    "from pyvis.network import Network\n",
    "\n",
    "def visualize(G, colormap, out_filename = 'subgraph_rebel.html'):\n",
    "    net = Network(height=\"100%\", width=\"100%\", notebook=True, directed=True)\n",
    "    # uncomment the following if the graph is large\n",
    "    # N.barnes_hut(spring_strength=0.006)\n",
    "\n",
    "    for n in G:\n",
    "        net.add_node(n, label=n)\n",
    "\n",
    "    for e in G.edges(data=True):\n",
    "    \n",
    "        net.add_edge(e[0], e[1], color=colormap[e[2]['edge']], title=e[2]['edge'])\n",
    "\n",
    "    net.write_html(out_filename)  # save a html file in current dir"
   ]
  },
  {
   "cell_type": "code",
   "execution_count": 17,
   "id": "fd3e76cc-27ed-4827-acd5-1f6f3deb82e1",
   "metadata": {
    "tags": []
   },
   "outputs": [],
   "source": [
    "visualize(nx.from_pandas_edgelist(df, \"source\", \"target\",\n",
    "                          edge_attr=True, create_using=nx.MultiDiGraph()), colormap=color_map, out_filename='subgraph_rebel.html')"
   ]
  },
  {
   "cell_type": "markdown",
   "id": "bb144aa2-df90-4a62-8d80-16d6ab0aa20c",
   "metadata": {},
   "source": [
    "### PFN"
   ]
  },
  {
   "cell_type": "code",
   "execution_count": 69,
   "id": "20d42a76-bc1f-4e53-a315-a98d9b90fca9",
   "metadata": {},
   "outputs": [],
   "source": [
    "pfn_rels_no_duplicates = pfn_rels.drop_duplicates()\n"
   ]
  },
  {
   "cell_type": "code",
   "execution_count": 70,
   "id": "c695a7af-c63a-46f6-b0d5-1cc2c55aa282",
   "metadata": {
    "tags": []
   },
   "outputs": [],
   "source": [
    "pfn_rels_no_duplicates = pfn_rels_no_duplicates.replace({\"source\": source_keys_to_unite_pfn})\n",
    "pfn_rels_no_duplicates = pfn_rels_no_duplicates.replace({\"target\": target_keys_to_unite_pfn})\n",
    "# pfn_rels_no_duplicates['target'] = pfn_rels_no_duplicates['target'].map(target_keys_to_unite_pfn, na_action='ignore')"
   ]
  },
  {
   "cell_type": "code",
   "execution_count": 71,
   "id": "10e49462-9f5c-4c13-83cc-18f706cd05d1",
   "metadata": {},
   "outputs": [
    {
     "data": {
      "text/html": [
       "<div>\n",
       "<style scoped>\n",
       "    .dataframe tbody tr th:only-of-type {\n",
       "        vertical-align: middle;\n",
       "    }\n",
       "\n",
       "    .dataframe tbody tr th {\n",
       "        vertical-align: top;\n",
       "    }\n",
       "\n",
       "    .dataframe thead th {\n",
       "        text-align: right;\n",
       "    }\n",
       "</style>\n",
       "<table border=\"1\" class=\"dataframe\">\n",
       "  <thead>\n",
       "    <tr style=\"text-align: right;\">\n",
       "      <th></th>\n",
       "      <th>source</th>\n",
       "      <th>target</th>\n",
       "      <th>edge</th>\n",
       "    </tr>\n",
       "  </thead>\n",
       "  <tbody>\n",
       "    <tr>\n",
       "      <th>4</th>\n",
       "      <td>categorical form</td>\n",
       "      <td>structure</td>\n",
       "      <td>Feature-of</td>\n",
       "    </tr>\n",
       "    <tr>\n",
       "      <th>6</th>\n",
       "      <td>approach</td>\n",
       "      <td>quantization of causal sites</td>\n",
       "      <td>Used-for</td>\n",
       "    </tr>\n",
       "    <tr>\n",
       "      <th>7</th>\n",
       "      <td>projective threespace</td>\n",
       "      <td>smooth quartic surface</td>\n",
       "      <td>Feature-of</td>\n",
       "    </tr>\n",
       "    <tr>\n",
       "      <th>10</th>\n",
       "      <td>object detector</td>\n",
       "      <td>bootstrap particle filter PF</td>\n",
       "      <td>Used-for</td>\n",
       "    </tr>\n",
       "    <tr>\n",
       "      <th>21</th>\n",
       "      <td>algorithm</td>\n",
       "      <td>alternatives</td>\n",
       "      <td>Compare</td>\n",
       "    </tr>\n",
       "    <tr>\n",
       "      <th>...</th>\n",
       "      <td>...</td>\n",
       "      <td>...</td>\n",
       "      <td>...</td>\n",
       "    </tr>\n",
       "    <tr>\n",
       "      <th>1098582</th>\n",
       "      <td>throughput</td>\n",
       "      <td>resource bounds</td>\n",
       "      <td>Conjunction</td>\n",
       "    </tr>\n",
       "    <tr>\n",
       "      <th>1098592</th>\n",
       "      <td>minimal latency</td>\n",
       "      <td>baselines</td>\n",
       "      <td>Evaluate-for</td>\n",
       "    </tr>\n",
       "    <tr>\n",
       "      <th>1098593</th>\n",
       "      <td>minimal latency</td>\n",
       "      <td>resource bounds</td>\n",
       "      <td>Conjunction</td>\n",
       "    </tr>\n",
       "    <tr>\n",
       "      <th>1098604</th>\n",
       "      <td>query level accuracy</td>\n",
       "      <td>baselines</td>\n",
       "      <td>Evaluate-for</td>\n",
       "    </tr>\n",
       "    <tr>\n",
       "      <th>1098605</th>\n",
       "      <td>query level accuracy</td>\n",
       "      <td>resource bounds</td>\n",
       "      <td>Conjunction</td>\n",
       "    </tr>\n",
       "  </tbody>\n",
       "</table>\n",
       "<p>971172 rows × 3 columns</p>\n",
       "</div>"
      ],
      "text/plain": [
       "                        source                        target          edge\n",
       "4             categorical form                     structure    Feature-of\n",
       "6                     approach  quantization of causal sites      Used-for\n",
       "7        projective threespace        smooth quartic surface    Feature-of\n",
       "10             object detector  bootstrap particle filter PF      Used-for\n",
       "21                   algorithm                  alternatives       Compare\n",
       "...                        ...                           ...           ...\n",
       "1098582             throughput               resource bounds   Conjunction\n",
       "1098592        minimal latency                     baselines  Evaluate-for\n",
       "1098593        minimal latency               resource bounds   Conjunction\n",
       "1098604   query level accuracy                     baselines  Evaluate-for\n",
       "1098605   query level accuracy               resource bounds   Conjunction\n",
       "\n",
       "[971172 rows x 3 columns]"
      ]
     },
     "execution_count": 71,
     "metadata": {},
     "output_type": "execute_result"
    }
   ],
   "source": [
    "pfn_rels_no_duplicates"
   ]
  },
  {
   "cell_type": "code",
   "execution_count": 72,
   "id": "0bfb4e4b-df08-4732-8ebe-8760573f5cb2",
   "metadata": {
    "collapsed": true,
    "jupyter": {
     "outputs_hidden": true
    },
    "tags": []
   },
   "outputs": [
    {
     "name": "stdout",
     "output_type": "stream",
     "text": [
      "Used-for\n"
     ]
    },
    {
     "name": "stderr",
     "output_type": "stream",
     "text": [
      "  0%|          | 1911/475887 [00:00<00:24, 19102.28it/s]"
     ]
    },
    {
     "name": "stdout",
     "output_type": "stream",
     "text": [
      "1\n",
      "2\n",
      "3\n",
      "4\n",
      "5\n",
      "6\n",
      "7\n",
      "8\n",
      "9\n"
     ]
    },
    {
     "name": "stderr",
     "output_type": "stream",
     "text": [
      "  1%|          | 3308/475887 [00:00<00:25, 18669.27it/s]\n"
     ]
    },
    {
     "name": "stdout",
     "output_type": "stream",
     "text": [
      "10\n",
      "11\n",
      "12\n",
      "13\n",
      "14\n",
      "15\n",
      "Finished: Used-for\n",
      "Conjunction\n"
     ]
    },
    {
     "name": "stderr",
     "output_type": "stream",
     "text": [
      "  0%|          | 0/196286 [00:00<?, ?it/s]"
     ]
    },
    {
     "name": "stdout",
     "output_type": "stream",
     "text": [
      "1\n"
     ]
    },
    {
     "name": "stderr",
     "output_type": "stream",
     "text": [
      "  2%|▏         | 3744/196286 [00:00<00:10, 18621.81it/s]"
     ]
    },
    {
     "name": "stdout",
     "output_type": "stream",
     "text": [
      "2\n",
      "3\n",
      "4\n",
      "5\n",
      "6\n"
     ]
    },
    {
     "name": "stderr",
     "output_type": "stream",
     "text": [
      "  5%|▍         | 9338/196286 [00:00<00:10, 18606.25it/s]"
     ]
    },
    {
     "name": "stdout",
     "output_type": "stream",
     "text": [
      "7\n",
      "8\n",
      "9\n",
      "10\n",
      "11\n",
      "12\n",
      "13\n",
      "14\n"
     ]
    },
    {
     "name": "stderr",
     "output_type": "stream",
     "text": [
      "  5%|▌         | 10726/196286 [00:00<00:09, 18565.90it/s]\n"
     ]
    },
    {
     "name": "stdout",
     "output_type": "stream",
     "text": [
      "15\n",
      "Finished: Conjunction\n",
      "Feature-of\n"
     ]
    },
    {
     "name": "stderr",
     "output_type": "stream",
     "text": [
      "  1%|          | 797/82084 [00:00<00:04, 17356.04it/s]\n"
     ]
    },
    {
     "name": "stdout",
     "output_type": "stream",
     "text": [
      "1\n",
      "2\n",
      "3\n",
      "4\n",
      "5\n",
      "6\n",
      "7\n",
      "8\n",
      "9\n",
      "10\n",
      "11\n",
      "12\n",
      "13\n",
      "14\n",
      "15\n",
      "Finished: Feature-of\n",
      "Evaluate-for\n"
     ]
    },
    {
     "name": "stderr",
     "output_type": "stream",
     "text": [
      "  0%|          | 100/81030 [00:00<00:05, 16036.95it/s]"
     ]
    },
    {
     "name": "stdout",
     "output_type": "stream",
     "text": [
      "1\n",
      "2\n",
      "3\n",
      "4\n",
      "5\n",
      "6\n",
      "7\n",
      "8\n",
      "9\n",
      "10\n",
      "11\n",
      "12\n",
      "13\n",
      "14\n",
      "15\n",
      "Finished: Evaluate-for\n",
      "Hyponym-of\n"
     ]
    },
    {
     "name": "stderr",
     "output_type": "stream",
     "text": [
      "\n",
      "  1%|          | 590/72829 [00:00<00:04, 17153.67it/s]"
     ]
    },
    {
     "name": "stdout",
     "output_type": "stream",
     "text": [
      "1\n",
      "2\n",
      "3\n",
      "4\n",
      "5\n",
      "6\n",
      "7\n",
      "8\n",
      "9\n",
      "10\n",
      "11\n",
      "12\n",
      "13\n",
      "14\n",
      "15\n",
      "Finished: Hyponym-of\n",
      "Compare\n"
     ]
    },
    {
     "name": "stderr",
     "output_type": "stream",
     "text": [
      "\n",
      "  0%|          | 126/42617 [00:00<00:02, 15884.17it/s]\n"
     ]
    },
    {
     "name": "stdout",
     "output_type": "stream",
     "text": [
      "1\n",
      "2\n",
      "3\n",
      "4\n",
      "5\n",
      "6\n",
      "7\n",
      "8\n",
      "9\n",
      "10\n",
      "11\n",
      "12\n",
      "13\n",
      "14\n",
      "15\n",
      "Finished: Compare\n",
      "Part-of\n"
     ]
    },
    {
     "name": "stderr",
     "output_type": "stream",
     "text": [
      "  1%|          | 208/20439 [00:00<00:01, 16861.52it/s]"
     ]
    },
    {
     "name": "stdout",
     "output_type": "stream",
     "text": [
      "1\n",
      "2\n",
      "3\n",
      "4\n",
      "5\n",
      "6\n",
      "7\n",
      "8\n",
      "9\n",
      "10\n",
      "11\n",
      "12\n",
      "13\n",
      "14\n",
      "15\n",
      "Finished: Part-of\n"
     ]
    },
    {
     "name": "stderr",
     "output_type": "stream",
     "text": [
      "\n"
     ]
    }
   ],
   "source": [
    "random_edges_pfn = random_subgraph(relations =pfn_rels_no_duplicates, n_edges=15)"
   ]
  },
  {
   "cell_type": "code",
   "execution_count": 73,
   "id": "037378e4-1eac-4969-be65-411c49e26c29",
   "metadata": {},
   "outputs": [],
   "source": [
    "df_pfn = pd.DataFrame(random_edges_pfn, columns=['edge', 'source', 'target'])"
   ]
  },
  {
   "cell_type": "code",
   "execution_count": 74,
   "id": "4dace249-74db-4991-b84f-a1c587083d29",
   "metadata": {},
   "outputs": [],
   "source": [
    "color_map_pfn = generate_color_map(df_pfn)"
   ]
  },
  {
   "cell_type": "code",
   "execution_count": 75,
   "id": "c31e496a-068e-4630-b239-d5d4739c4b7c",
   "metadata": {},
   "outputs": [],
   "source": [
    "visualize(nx.from_pandas_edgelist(df_pfn, \"source\", \"target\", \n",
    "                          edge_attr=True, create_using=nx.MultiDiGraph()), colormap=color_map_pfn,  out_filename='subgraph_pfn.html')"
   ]
  },
  {
   "cell_type": "markdown",
   "id": "3e53ced3-bb35-43c7-ba43-feef6101936d",
   "metadata": {},
   "source": [
    "## Sample corpus of random walks"
   ]
  },
  {
   "cell_type": "code",
   "execution_count": 8,
   "id": "1a6a3e44-6f28-463b-ad3b-7828c013a4f4",
   "metadata": {},
   "outputs": [],
   "source": [
    "def init_child(_graph, _pars):\n",
    "    global G, n_iters, seed, w_length\n",
    "    G = _graph\n",
    "    n_iters = _pars[\"niters\"]\n",
    "    seed = _pars[\"seed\"]\n",
    "    w_length = _pars['w_length']\n",
    "\n",
    "\n",
    "def run_walks_g(start_node):\n",
    "    corpus = []\n",
    "    random.seed(seed)\n",
    "    np.random.seed(seed)\n",
    "    for chosen_node in [start_node]:\n",
    "        for _ in range(n_iters):\n",
    "            path = [chosen_node]\n",
    "            for _ in range(w_length-1):\n",
    "                neighbors = G.successors(path[-1])\n",
    "                filtered_neighbors = set(neighbors) - set(path)\n",
    "                filtered_neighbors = list(set(filtered_neighbors))\n",
    "                filtered_neighbors.sort()\n",
    "                if len(filtered_neighbors) == 0:\n",
    "                        break\n",
    "                next_node = np.random.choice(filtered_neighbors)\n",
    "                path.append(next_node)\n",
    "            \n",
    "            corpus.append(path)\n",
    "    return corpus\n",
    "\n",
    "\n",
    "def sample_heterogeneous_random_walks(graph):\n",
    "\n",
    "    threads = 12\n",
    "    chunkdiv = 20\n",
    "    walks_per_node = 5\n",
    "    seed = 42\n",
    "    walk_length = 20\n",
    "\n",
    "    available_start_nodes = np.array(graph.nodes())\n",
    "    available_start_nodes.sort()\n",
    "\n",
    "\n",
    "    chlen = len(available_start_nodes)//(threads*chunkdiv)\n",
    "    pbar = tqdm(total=len(available_start_nodes))\n",
    "    res = []\n",
    "    pars = {}\n",
    "\n",
    "    pars[\"seed\"] = seed\n",
    "    pars[\"niters\"] = walks_per_node\n",
    "    pars[\"w_length\"] = walk_length\n",
    "\n",
    "    pool = multiprocessing.Pool(processes=threads, initializer=init_child,\n",
    "                initargs=(graph, pars))\n",
    "\n",
    "    for walk in pool.imap(run_walks_g, available_start_nodes, chunksize=chlen):\n",
    "        res += walk #.append(\"\\n\".join(walk) )\n",
    "        pbar.update(1)\n",
    "    pool.close()\n",
    "    pool.join()\n",
    "\n",
    "    return res"
   ]
  },
  {
   "cell_type": "code",
   "execution_count": 9,
   "id": "9f4402c9-95fd-4a92-a065-c0ec2fc429cd",
   "metadata": {},
   "outputs": [],
   "source": [
    "def get_unique_entities(walks):\n",
    "    walks = [walk for walk in walks if len(walk) > 1]\n",
    "    chain_walks = list(chain(*walks))\n",
    "    unique_tokens_in_corpus = set(chain_walks)\n",
    "    print('Number of unique tokens in corpus: ', len(unique_tokens_in_corpus))\n",
    "    return walks, unique_tokens_in_corpus\n",
    "\n",
    "def get_embeddings(unique_tokens, model, out_filename):\n",
    "    dict_of_tokens_df = {}\n",
    "    for token in unique_tokens:\n",
    "        try:\n",
    "            dict_of_tokens_df[token] = model.wv[token]\n",
    "        except KeyError:\n",
    "            pass\n",
    "    entity_embeddings = pd.DataFrame(dict_of_tokens_df).transpose().rename_axis('entity').reset_index()\n",
    "    entity_embeddings.to_pickle(out_filename)\n",
    "    return entity_embeddings\n",
    "\n"
   ]
  },
  {
   "cell_type": "markdown",
   "id": "d73983ec-be07-4625-943e-19fc60bd7d86",
   "metadata": {},
   "source": [
    "## Embeddings for PFN graph"
   ]
  },
  {
   "cell_type": "code",
   "execution_count": 10,
   "id": "925178ad-cc11-428a-aaab-ac636f378c99",
   "metadata": {},
   "outputs": [],
   "source": [
    "pfn_graph = nx.from_pandas_edgelist(pfn_rels, \"source\", \"target\", edge_attr=True, create_using=nx.MultiDiGraph())"
   ]
  },
  {
   "cell_type": "code",
   "execution_count": 11,
   "id": "0b90a342-4dc9-44e9-8533-35fa8554291a",
   "metadata": {},
   "outputs": [
    {
     "name": "stdout",
     "output_type": "stream",
     "text": [
      "MultiDiGraph with 758783 nodes and 971172 edges\n"
     ]
    }
   ],
   "source": [
    "print(nx.info(pfn_graph))"
   ]
  },
  {
   "cell_type": "code",
   "execution_count": 12,
   "id": "db3180d4-b325-4619-b169-5e98da999041",
   "metadata": {},
   "outputs": [
    {
     "name": "stderr",
     "output_type": "stream",
     "text": [
      "100%|██████████| 758783/758783 [01:48<00:00, 6981.16it/s] \n"
     ]
    }
   ],
   "source": [
    "walks_pfn = sample_heterogeneous_random_walks(graph=pfn_graph)"
   ]
  },
  {
   "cell_type": "code",
   "execution_count": 13,
   "id": "fae329e0-e8f0-4cec-901a-1a034d44169f",
   "metadata": {},
   "outputs": [],
   "source": [
    "with open('pfn_graph_rw.pickle', 'wb') as handle:\n",
    "    pickle.dump(walks_pfn, handle)"
   ]
  },
  {
   "cell_type": "code",
   "execution_count": 14,
   "id": "110b0704-b3f7-4835-a047-80c0fb153649",
   "metadata": {},
   "outputs": [
    {
     "name": "stdout",
     "output_type": "stream",
     "text": [
      "Number of unique tokens in corpus:  665477\n"
     ]
    }
   ],
   "source": [
    "corpus_pfn, unique_tokens_in_corpus_pfn = get_unique_entities(walks=walks_pfn)"
   ]
  },
  {
   "cell_type": "code",
   "execution_count": 15,
   "id": "4c5a4be2-6c1b-4c76-8b6a-416cbd1f2893",
   "metadata": {},
   "outputs": [],
   "source": [
    "model_pfn = gensim.models.Word2Vec(sentences=corpus_pfn, min_count=1, vector_size=64, seed=42, sg=1, workers=7) # workers=self.workers"
   ]
  },
  {
   "cell_type": "code",
   "execution_count": 16,
   "id": "8b4f8c81-82bd-49ec-b3b9-640f395d761a",
   "metadata": {},
   "outputs": [],
   "source": [
    "pfn_embeddings = get_embeddings(unique_tokens=unique_tokens_in_corpus_pfn, model=model_pfn, out_filename='pfn_embeddings_w2v.pickle')"
   ]
  },
  {
   "cell_type": "code",
   "execution_count": 17,
   "id": "8379bc01-50ce-45f7-9140-7d705c108123",
   "metadata": {},
   "outputs": [
    {
     "data": {
      "text/html": [
       "<div>\n",
       "<style scoped>\n",
       "    .dataframe tbody tr th:only-of-type {\n",
       "        vertical-align: middle;\n",
       "    }\n",
       "\n",
       "    .dataframe tbody tr th {\n",
       "        vertical-align: top;\n",
       "    }\n",
       "\n",
       "    .dataframe thead th {\n",
       "        text-align: right;\n",
       "    }\n",
       "</style>\n",
       "<table border=\"1\" class=\"dataframe\">\n",
       "  <thead>\n",
       "    <tr style=\"text-align: right;\">\n",
       "      <th></th>\n",
       "      <th>entity</th>\n",
       "      <th>0</th>\n",
       "      <th>1</th>\n",
       "      <th>2</th>\n",
       "      <th>3</th>\n",
       "      <th>4</th>\n",
       "      <th>5</th>\n",
       "      <th>6</th>\n",
       "      <th>7</th>\n",
       "      <th>8</th>\n",
       "      <th>...</th>\n",
       "      <th>54</th>\n",
       "      <th>55</th>\n",
       "      <th>56</th>\n",
       "      <th>57</th>\n",
       "      <th>58</th>\n",
       "      <th>59</th>\n",
       "      <th>60</th>\n",
       "      <th>61</th>\n",
       "      <th>62</th>\n",
       "      <th>63</th>\n",
       "    </tr>\n",
       "  </thead>\n",
       "  <tbody>\n",
       "    <tr>\n",
       "      <th>0</th>\n",
       "      <td>higher dimensional manifold</td>\n",
       "      <td>0.034547</td>\n",
       "      <td>-0.094241</td>\n",
       "      <td>0.047035</td>\n",
       "      <td>0.009159</td>\n",
       "      <td>0.003111</td>\n",
       "      <td>-0.066225</td>\n",
       "      <td>-0.002496</td>\n",
       "      <td>-0.015083</td>\n",
       "      <td>-0.001848</td>\n",
       "      <td>...</td>\n",
       "      <td>0.013181</td>\n",
       "      <td>0.012880</td>\n",
       "      <td>-0.014165</td>\n",
       "      <td>-0.059290</td>\n",
       "      <td>-0.060364</td>\n",
       "      <td>-0.028410</td>\n",
       "      <td>-0.000160</td>\n",
       "      <td>0.016618</td>\n",
       "      <td>0.123714</td>\n",
       "      <td>0.081467</td>\n",
       "    </tr>\n",
       "    <tr>\n",
       "      <th>1</th>\n",
       "      <td>robot architectures</td>\n",
       "      <td>0.030633</td>\n",
       "      <td>-0.062755</td>\n",
       "      <td>0.059944</td>\n",
       "      <td>0.012458</td>\n",
       "      <td>0.045975</td>\n",
       "      <td>-0.052501</td>\n",
       "      <td>0.016918</td>\n",
       "      <td>0.013015</td>\n",
       "      <td>-0.044257</td>\n",
       "      <td>...</td>\n",
       "      <td>0.004330</td>\n",
       "      <td>-0.001469</td>\n",
       "      <td>0.006013</td>\n",
       "      <td>-0.056168</td>\n",
       "      <td>-0.063509</td>\n",
       "      <td>-0.047416</td>\n",
       "      <td>-0.005274</td>\n",
       "      <td>0.040821</td>\n",
       "      <td>0.099596</td>\n",
       "      <td>0.045311</td>\n",
       "    </tr>\n",
       "    <tr>\n",
       "      <th>2</th>\n",
       "      <td>three dimensional pipe flow</td>\n",
       "      <td>0.028886</td>\n",
       "      <td>-0.072850</td>\n",
       "      <td>0.042598</td>\n",
       "      <td>-0.001262</td>\n",
       "      <td>0.027652</td>\n",
       "      <td>-0.055588</td>\n",
       "      <td>0.000206</td>\n",
       "      <td>-0.015575</td>\n",
       "      <td>-0.033364</td>\n",
       "      <td>...</td>\n",
       "      <td>-0.015947</td>\n",
       "      <td>-0.002446</td>\n",
       "      <td>0.008044</td>\n",
       "      <td>-0.031799</td>\n",
       "      <td>-0.016319</td>\n",
       "      <td>-0.023055</td>\n",
       "      <td>-0.017007</td>\n",
       "      <td>0.025399</td>\n",
       "      <td>0.083774</td>\n",
       "      <td>0.060422</td>\n",
       "    </tr>\n",
       "    <tr>\n",
       "      <th>3</th>\n",
       "      <td>solenoid lens</td>\n",
       "      <td>0.050770</td>\n",
       "      <td>-0.057781</td>\n",
       "      <td>0.061612</td>\n",
       "      <td>0.005901</td>\n",
       "      <td>0.015192</td>\n",
       "      <td>-0.080932</td>\n",
       "      <td>0.009246</td>\n",
       "      <td>-0.029574</td>\n",
       "      <td>-0.021362</td>\n",
       "      <td>...</td>\n",
       "      <td>0.026900</td>\n",
       "      <td>-0.003139</td>\n",
       "      <td>-0.012888</td>\n",
       "      <td>-0.051014</td>\n",
       "      <td>-0.055189</td>\n",
       "      <td>-0.032900</td>\n",
       "      <td>0.011352</td>\n",
       "      <td>0.040711</td>\n",
       "      <td>0.138401</td>\n",
       "      <td>0.087603</td>\n",
       "    </tr>\n",
       "    <tr>\n",
       "      <th>4</th>\n",
       "      <td>MiniONN</td>\n",
       "      <td>0.109976</td>\n",
       "      <td>-0.161539</td>\n",
       "      <td>0.086551</td>\n",
       "      <td>-0.011095</td>\n",
       "      <td>0.058066</td>\n",
       "      <td>-0.112867</td>\n",
       "      <td>-0.019754</td>\n",
       "      <td>-0.022982</td>\n",
       "      <td>-0.058417</td>\n",
       "      <td>...</td>\n",
       "      <td>0.022290</td>\n",
       "      <td>-0.036908</td>\n",
       "      <td>-0.053206</td>\n",
       "      <td>-0.066526</td>\n",
       "      <td>-0.148938</td>\n",
       "      <td>-0.088734</td>\n",
       "      <td>-0.001461</td>\n",
       "      <td>0.063101</td>\n",
       "      <td>0.175885</td>\n",
       "      <td>0.082884</td>\n",
       "    </tr>\n",
       "    <tr>\n",
       "      <th>...</th>\n",
       "      <td>...</td>\n",
       "      <td>...</td>\n",
       "      <td>...</td>\n",
       "      <td>...</td>\n",
       "      <td>...</td>\n",
       "      <td>...</td>\n",
       "      <td>...</td>\n",
       "      <td>...</td>\n",
       "      <td>...</td>\n",
       "      <td>...</td>\n",
       "      <td>...</td>\n",
       "      <td>...</td>\n",
       "      <td>...</td>\n",
       "      <td>...</td>\n",
       "      <td>...</td>\n",
       "      <td>...</td>\n",
       "      <td>...</td>\n",
       "      <td>...</td>\n",
       "      <td>...</td>\n",
       "      <td>...</td>\n",
       "      <td>...</td>\n",
       "    </tr>\n",
       "    <tr>\n",
       "      <th>665472</th>\n",
       "      <td>orthogonal class</td>\n",
       "      <td>0.062711</td>\n",
       "      <td>-0.122307</td>\n",
       "      <td>0.104362</td>\n",
       "      <td>0.001267</td>\n",
       "      <td>0.050982</td>\n",
       "      <td>-0.112246</td>\n",
       "      <td>0.004408</td>\n",
       "      <td>-0.038099</td>\n",
       "      <td>-0.035520</td>\n",
       "      <td>...</td>\n",
       "      <td>0.037834</td>\n",
       "      <td>0.011703</td>\n",
       "      <td>0.004909</td>\n",
       "      <td>-0.058276</td>\n",
       "      <td>-0.071168</td>\n",
       "      <td>-0.063151</td>\n",
       "      <td>-0.022430</td>\n",
       "      <td>0.059500</td>\n",
       "      <td>0.173696</td>\n",
       "      <td>0.104555</td>\n",
       "    </tr>\n",
       "    <tr>\n",
       "      <th>665473</th>\n",
       "      <td>log Sobolev type inequality</td>\n",
       "      <td>0.109666</td>\n",
       "      <td>-0.149745</td>\n",
       "      <td>0.137818</td>\n",
       "      <td>0.030483</td>\n",
       "      <td>0.003911</td>\n",
       "      <td>-0.120372</td>\n",
       "      <td>0.014793</td>\n",
       "      <td>-0.035571</td>\n",
       "      <td>-0.095974</td>\n",
       "      <td>...</td>\n",
       "      <td>0.000479</td>\n",
       "      <td>0.021303</td>\n",
       "      <td>0.000296</td>\n",
       "      <td>-0.075577</td>\n",
       "      <td>-0.043531</td>\n",
       "      <td>-0.110518</td>\n",
       "      <td>0.008867</td>\n",
       "      <td>0.051127</td>\n",
       "      <td>0.147361</td>\n",
       "      <td>0.103354</td>\n",
       "    </tr>\n",
       "    <tr>\n",
       "      <th>665474</th>\n",
       "      <td>superplasticity</td>\n",
       "      <td>0.071894</td>\n",
       "      <td>-0.127764</td>\n",
       "      <td>0.062424</td>\n",
       "      <td>0.004395</td>\n",
       "      <td>0.056917</td>\n",
       "      <td>-0.084671</td>\n",
       "      <td>-0.016921</td>\n",
       "      <td>-0.000683</td>\n",
       "      <td>-0.023228</td>\n",
       "      <td>...</td>\n",
       "      <td>0.014003</td>\n",
       "      <td>0.009251</td>\n",
       "      <td>-0.006899</td>\n",
       "      <td>-0.083336</td>\n",
       "      <td>-0.064868</td>\n",
       "      <td>-0.054701</td>\n",
       "      <td>-0.012754</td>\n",
       "      <td>0.066114</td>\n",
       "      <td>0.161611</td>\n",
       "      <td>0.097339</td>\n",
       "    </tr>\n",
       "    <tr>\n",
       "      <th>665475</th>\n",
       "      <td>sums of Hilbert space frames</td>\n",
       "      <td>0.095777</td>\n",
       "      <td>-0.145915</td>\n",
       "      <td>0.134581</td>\n",
       "      <td>0.017444</td>\n",
       "      <td>0.044417</td>\n",
       "      <td>-0.154594</td>\n",
       "      <td>0.023935</td>\n",
       "      <td>-0.041457</td>\n",
       "      <td>-0.046342</td>\n",
       "      <td>...</td>\n",
       "      <td>0.039521</td>\n",
       "      <td>0.014362</td>\n",
       "      <td>0.002289</td>\n",
       "      <td>-0.121797</td>\n",
       "      <td>-0.098378</td>\n",
       "      <td>-0.091944</td>\n",
       "      <td>0.004156</td>\n",
       "      <td>0.085312</td>\n",
       "      <td>0.211144</td>\n",
       "      <td>0.137188</td>\n",
       "    </tr>\n",
       "    <tr>\n",
       "      <th>665476</th>\n",
       "      <td>CPU GPU platform</td>\n",
       "      <td>0.094591</td>\n",
       "      <td>-0.180771</td>\n",
       "      <td>0.142794</td>\n",
       "      <td>-0.005761</td>\n",
       "      <td>0.101024</td>\n",
       "      <td>-0.173257</td>\n",
       "      <td>0.005836</td>\n",
       "      <td>-0.058929</td>\n",
       "      <td>-0.096801</td>\n",
       "      <td>...</td>\n",
       "      <td>0.050161</td>\n",
       "      <td>-0.021339</td>\n",
       "      <td>-0.016839</td>\n",
       "      <td>-0.159292</td>\n",
       "      <td>-0.126792</td>\n",
       "      <td>-0.102206</td>\n",
       "      <td>0.018195</td>\n",
       "      <td>0.099280</td>\n",
       "      <td>0.268837</td>\n",
       "      <td>0.166123</td>\n",
       "    </tr>\n",
       "  </tbody>\n",
       "</table>\n",
       "<p>665477 rows × 65 columns</p>\n",
       "</div>"
      ],
      "text/plain": [
       "                              entity         0         1         2         3  \\\n",
       "0        higher dimensional manifold  0.034547 -0.094241  0.047035  0.009159   \n",
       "1                robot architectures  0.030633 -0.062755  0.059944  0.012458   \n",
       "2        three dimensional pipe flow  0.028886 -0.072850  0.042598 -0.001262   \n",
       "3                      solenoid lens  0.050770 -0.057781  0.061612  0.005901   \n",
       "4                            MiniONN  0.109976 -0.161539  0.086551 -0.011095   \n",
       "...                              ...       ...       ...       ...       ...   \n",
       "665472              orthogonal class  0.062711 -0.122307  0.104362  0.001267   \n",
       "665473   log Sobolev type inequality  0.109666 -0.149745  0.137818  0.030483   \n",
       "665474               superplasticity  0.071894 -0.127764  0.062424  0.004395   \n",
       "665475  sums of Hilbert space frames  0.095777 -0.145915  0.134581  0.017444   \n",
       "665476              CPU GPU platform  0.094591 -0.180771  0.142794 -0.005761   \n",
       "\n",
       "               4         5         6         7         8  ...        54  \\\n",
       "0       0.003111 -0.066225 -0.002496 -0.015083 -0.001848  ...  0.013181   \n",
       "1       0.045975 -0.052501  0.016918  0.013015 -0.044257  ...  0.004330   \n",
       "2       0.027652 -0.055588  0.000206 -0.015575 -0.033364  ... -0.015947   \n",
       "3       0.015192 -0.080932  0.009246 -0.029574 -0.021362  ...  0.026900   \n",
       "4       0.058066 -0.112867 -0.019754 -0.022982 -0.058417  ...  0.022290   \n",
       "...          ...       ...       ...       ...       ...  ...       ...   \n",
       "665472  0.050982 -0.112246  0.004408 -0.038099 -0.035520  ...  0.037834   \n",
       "665473  0.003911 -0.120372  0.014793 -0.035571 -0.095974  ...  0.000479   \n",
       "665474  0.056917 -0.084671 -0.016921 -0.000683 -0.023228  ...  0.014003   \n",
       "665475  0.044417 -0.154594  0.023935 -0.041457 -0.046342  ...  0.039521   \n",
       "665476  0.101024 -0.173257  0.005836 -0.058929 -0.096801  ...  0.050161   \n",
       "\n",
       "              55        56        57        58        59        60        61  \\\n",
       "0       0.012880 -0.014165 -0.059290 -0.060364 -0.028410 -0.000160  0.016618   \n",
       "1      -0.001469  0.006013 -0.056168 -0.063509 -0.047416 -0.005274  0.040821   \n",
       "2      -0.002446  0.008044 -0.031799 -0.016319 -0.023055 -0.017007  0.025399   \n",
       "3      -0.003139 -0.012888 -0.051014 -0.055189 -0.032900  0.011352  0.040711   \n",
       "4      -0.036908 -0.053206 -0.066526 -0.148938 -0.088734 -0.001461  0.063101   \n",
       "...          ...       ...       ...       ...       ...       ...       ...   \n",
       "665472  0.011703  0.004909 -0.058276 -0.071168 -0.063151 -0.022430  0.059500   \n",
       "665473  0.021303  0.000296 -0.075577 -0.043531 -0.110518  0.008867  0.051127   \n",
       "665474  0.009251 -0.006899 -0.083336 -0.064868 -0.054701 -0.012754  0.066114   \n",
       "665475  0.014362  0.002289 -0.121797 -0.098378 -0.091944  0.004156  0.085312   \n",
       "665476 -0.021339 -0.016839 -0.159292 -0.126792 -0.102206  0.018195  0.099280   \n",
       "\n",
       "              62        63  \n",
       "0       0.123714  0.081467  \n",
       "1       0.099596  0.045311  \n",
       "2       0.083774  0.060422  \n",
       "3       0.138401  0.087603  \n",
       "4       0.175885  0.082884  \n",
       "...          ...       ...  \n",
       "665472  0.173696  0.104555  \n",
       "665473  0.147361  0.103354  \n",
       "665474  0.161611  0.097339  \n",
       "665475  0.211144  0.137188  \n",
       "665476  0.268837  0.166123  \n",
       "\n",
       "[665477 rows x 65 columns]"
      ]
     },
     "execution_count": 17,
     "metadata": {},
     "output_type": "execute_result"
    }
   ],
   "source": [
    "pfn_embeddings"
   ]
  },
  {
   "cell_type": "markdown",
   "id": "f23407b3-af7a-4d6b-93df-758a914c6def",
   "metadata": {},
   "source": [
    "## Embeddings for REBEL"
   ]
  },
  {
   "cell_type": "code",
   "execution_count": 18,
   "id": "f3293136-0bfa-4a34-ba64-401e7ef5f1d9",
   "metadata": {},
   "outputs": [],
   "source": [
    "rebel_graph = nx.from_pandas_edgelist(rebel_rels, \"source\", \"target\", edge_attr=True, create_using=nx.MultiDiGraph())"
   ]
  },
  {
   "cell_type": "code",
   "execution_count": 19,
   "id": "ccb3a222-6d59-42da-a8d3-e6b59415e7d1",
   "metadata": {},
   "outputs": [
    {
     "name": "stdout",
     "output_type": "stream",
     "text": [
      "MultiDiGraph with 664132 nodes and 1149782 edges\n"
     ]
    }
   ],
   "source": [
    "print(nx.info(rebel_graph))"
   ]
  },
  {
   "cell_type": "code",
   "execution_count": 20,
   "id": "69e9e1ff-41e3-4f10-91aa-0fced9958c35",
   "metadata": {},
   "outputs": [
    {
     "name": "stderr",
     "output_type": "stream",
     "text": [
      "100%|██████████| 664132/664132 [01:17<00:00, 8577.09it/s] \n"
     ]
    }
   ],
   "source": [
    "walks_rebel = sample_heterogeneous_random_walks(graph=rebel_graph)"
   ]
  },
  {
   "cell_type": "code",
   "execution_count": 21,
   "id": "49dbe11f-64c9-41b7-b5a5-216bad195f65",
   "metadata": {},
   "outputs": [],
   "source": [
    "with open('rebel_graph_rw.pickle', 'wb') as handle:\n",
    "    pickle.dump(walks_rebel, handle)"
   ]
  },
  {
   "cell_type": "code",
   "execution_count": 22,
   "id": "6871f58b-5106-4c40-afda-c35c6a841a21",
   "metadata": {},
   "outputs": [
    {
     "name": "stdout",
     "output_type": "stream",
     "text": [
      "Number of unique tokens in corpus:  639146\n"
     ]
    }
   ],
   "source": [
    "corpus_rebel, unique_tokens_in_corpus_rebel = get_unique_entities(walks=walks_rebel)"
   ]
  },
  {
   "cell_type": "code",
   "execution_count": 23,
   "id": "772cebc4-973a-42c3-a096-3d119f84d68f",
   "metadata": {},
   "outputs": [],
   "source": [
    "model_rebel = gensim.models.Word2Vec(sentences=corpus_rebel, min_count=1, vector_size=64, seed=42, sg=1, workers=7) # workers=self.workers\n"
   ]
  },
  {
   "cell_type": "code",
   "execution_count": 24,
   "id": "614259a9-5062-4fa3-815b-c60816fe91c8",
   "metadata": {},
   "outputs": [],
   "source": [
    "rebel_embeddings = get_embeddings(unique_tokens=unique_tokens_in_corpus_rebel, model=model_rebel, out_filename='rebel_embeddings_w2v.pickle')"
   ]
  },
  {
   "cell_type": "code",
   "execution_count": 25,
   "id": "22ad80e7-971c-44a5-ad42-4d0b7170d1f0",
   "metadata": {},
   "outputs": [
    {
     "data": {
      "text/html": [
       "<div>\n",
       "<style scoped>\n",
       "    .dataframe tbody tr th:only-of-type {\n",
       "        vertical-align: middle;\n",
       "    }\n",
       "\n",
       "    .dataframe tbody tr th {\n",
       "        vertical-align: top;\n",
       "    }\n",
       "\n",
       "    .dataframe thead th {\n",
       "        text-align: right;\n",
       "    }\n",
       "</style>\n",
       "<table border=\"1\" class=\"dataframe\">\n",
       "  <thead>\n",
       "    <tr style=\"text-align: right;\">\n",
       "      <th></th>\n",
       "      <th>entity</th>\n",
       "      <th>0</th>\n",
       "      <th>1</th>\n",
       "      <th>2</th>\n",
       "      <th>3</th>\n",
       "      <th>4</th>\n",
       "      <th>5</th>\n",
       "      <th>6</th>\n",
       "      <th>7</th>\n",
       "      <th>8</th>\n",
       "      <th>...</th>\n",
       "      <th>54</th>\n",
       "      <th>55</th>\n",
       "      <th>56</th>\n",
       "      <th>57</th>\n",
       "      <th>58</th>\n",
       "      <th>59</th>\n",
       "      <th>60</th>\n",
       "      <th>61</th>\n",
       "      <th>62</th>\n",
       "      <th>63</th>\n",
       "    </tr>\n",
       "  </thead>\n",
       "  <tbody>\n",
       "    <tr>\n",
       "      <th>0</th>\n",
       "      <td>higher dimensional manifold</td>\n",
       "      <td>-0.040160</td>\n",
       "      <td>-0.977115</td>\n",
       "      <td>0.674561</td>\n",
       "      <td>-0.275147</td>\n",
       "      <td>-0.272521</td>\n",
       "      <td>-0.168228</td>\n",
       "      <td>0.499957</td>\n",
       "      <td>0.515158</td>\n",
       "      <td>0.346035</td>\n",
       "      <td>...</td>\n",
       "      <td>-0.308417</td>\n",
       "      <td>0.255880</td>\n",
       "      <td>0.175917</td>\n",
       "      <td>-0.001147</td>\n",
       "      <td>0.334485</td>\n",
       "      <td>0.332582</td>\n",
       "      <td>-0.181207</td>\n",
       "      <td>0.807521</td>\n",
       "      <td>-0.211791</td>\n",
       "      <td>0.248036</td>\n",
       "    </tr>\n",
       "    <tr>\n",
       "      <th>1</th>\n",
       "      <td>globally distinguished representation</td>\n",
       "      <td>-0.119682</td>\n",
       "      <td>-0.097797</td>\n",
       "      <td>0.175936</td>\n",
       "      <td>-0.012959</td>\n",
       "      <td>-0.030870</td>\n",
       "      <td>-0.044621</td>\n",
       "      <td>0.066730</td>\n",
       "      <td>-0.054203</td>\n",
       "      <td>0.020064</td>\n",
       "      <td>...</td>\n",
       "      <td>-0.008359</td>\n",
       "      <td>0.012235</td>\n",
       "      <td>0.075498</td>\n",
       "      <td>-0.085041</td>\n",
       "      <td>0.078165</td>\n",
       "      <td>0.024660</td>\n",
       "      <td>-0.084735</td>\n",
       "      <td>-0.005476</td>\n",
       "      <td>-0.007197</td>\n",
       "      <td>-0.014907</td>\n",
       "    </tr>\n",
       "    <tr>\n",
       "      <th>2</th>\n",
       "      <td>A like</td>\n",
       "      <td>-0.374899</td>\n",
       "      <td>-0.051359</td>\n",
       "      <td>0.299906</td>\n",
       "      <td>-0.069462</td>\n",
       "      <td>-0.045523</td>\n",
       "      <td>-0.110750</td>\n",
       "      <td>0.243123</td>\n",
       "      <td>-0.132379</td>\n",
       "      <td>0.069445</td>\n",
       "      <td>...</td>\n",
       "      <td>-0.184413</td>\n",
       "      <td>0.109576</td>\n",
       "      <td>0.183808</td>\n",
       "      <td>-0.288676</td>\n",
       "      <td>0.121918</td>\n",
       "      <td>-0.004692</td>\n",
       "      <td>-0.135005</td>\n",
       "      <td>-0.054465</td>\n",
       "      <td>0.101525</td>\n",
       "      <td>-0.089477</td>\n",
       "    </tr>\n",
       "    <tr>\n",
       "      <th>3</th>\n",
       "      <td>type case</td>\n",
       "      <td>-0.078717</td>\n",
       "      <td>-0.004304</td>\n",
       "      <td>0.104942</td>\n",
       "      <td>0.004519</td>\n",
       "      <td>-0.062624</td>\n",
       "      <td>0.008192</td>\n",
       "      <td>0.034231</td>\n",
       "      <td>-0.036199</td>\n",
       "      <td>0.002670</td>\n",
       "      <td>...</td>\n",
       "      <td>-0.009738</td>\n",
       "      <td>0.034109</td>\n",
       "      <td>0.032710</td>\n",
       "      <td>-0.014242</td>\n",
       "      <td>0.081406</td>\n",
       "      <td>0.009557</td>\n",
       "      <td>-0.031643</td>\n",
       "      <td>-0.033400</td>\n",
       "      <td>0.017481</td>\n",
       "      <td>0.024278</td>\n",
       "    </tr>\n",
       "    <tr>\n",
       "      <th>4</th>\n",
       "      <td>UJT RO</td>\n",
       "      <td>-0.229235</td>\n",
       "      <td>-0.060061</td>\n",
       "      <td>0.360562</td>\n",
       "      <td>-0.043691</td>\n",
       "      <td>-0.026552</td>\n",
       "      <td>0.075704</td>\n",
       "      <td>0.215773</td>\n",
       "      <td>-0.126771</td>\n",
       "      <td>0.088855</td>\n",
       "      <td>...</td>\n",
       "      <td>-0.044169</td>\n",
       "      <td>0.008843</td>\n",
       "      <td>0.134973</td>\n",
       "      <td>-0.129087</td>\n",
       "      <td>0.117914</td>\n",
       "      <td>0.151015</td>\n",
       "      <td>0.003629</td>\n",
       "      <td>-0.033489</td>\n",
       "      <td>0.106454</td>\n",
       "      <td>-0.020332</td>\n",
       "    </tr>\n",
       "    <tr>\n",
       "      <th>...</th>\n",
       "      <td>...</td>\n",
       "      <td>...</td>\n",
       "      <td>...</td>\n",
       "      <td>...</td>\n",
       "      <td>...</td>\n",
       "      <td>...</td>\n",
       "      <td>...</td>\n",
       "      <td>...</td>\n",
       "      <td>...</td>\n",
       "      <td>...</td>\n",
       "      <td>...</td>\n",
       "      <td>...</td>\n",
       "      <td>...</td>\n",
       "      <td>...</td>\n",
       "      <td>...</td>\n",
       "      <td>...</td>\n",
       "      <td>...</td>\n",
       "      <td>...</td>\n",
       "      <td>...</td>\n",
       "      <td>...</td>\n",
       "      <td>...</td>\n",
       "    </tr>\n",
       "    <tr>\n",
       "      <th>639141</th>\n",
       "      <td>compute oracle</td>\n",
       "      <td>-0.091289</td>\n",
       "      <td>-0.257443</td>\n",
       "      <td>0.295029</td>\n",
       "      <td>0.029902</td>\n",
       "      <td>-0.132066</td>\n",
       "      <td>-0.282375</td>\n",
       "      <td>0.179305</td>\n",
       "      <td>-0.189810</td>\n",
       "      <td>-0.019033</td>\n",
       "      <td>...</td>\n",
       "      <td>-0.088510</td>\n",
       "      <td>0.202646</td>\n",
       "      <td>0.369558</td>\n",
       "      <td>0.097367</td>\n",
       "      <td>0.096957</td>\n",
       "      <td>-0.071945</td>\n",
       "      <td>-0.301740</td>\n",
       "      <td>-0.019195</td>\n",
       "      <td>-0.208439</td>\n",
       "      <td>0.179664</td>\n",
       "    </tr>\n",
       "    <tr>\n",
       "      <th>639142</th>\n",
       "      <td>empty site</td>\n",
       "      <td>-0.121642</td>\n",
       "      <td>-0.195255</td>\n",
       "      <td>0.439108</td>\n",
       "      <td>0.056549</td>\n",
       "      <td>0.163553</td>\n",
       "      <td>-0.049834</td>\n",
       "      <td>0.239073</td>\n",
       "      <td>-0.049745</td>\n",
       "      <td>-0.038428</td>\n",
       "      <td>...</td>\n",
       "      <td>0.161165</td>\n",
       "      <td>0.190312</td>\n",
       "      <td>0.296220</td>\n",
       "      <td>-0.032711</td>\n",
       "      <td>0.143677</td>\n",
       "      <td>0.045085</td>\n",
       "      <td>-0.163888</td>\n",
       "      <td>-0.025018</td>\n",
       "      <td>-0.030917</td>\n",
       "      <td>0.068896</td>\n",
       "    </tr>\n",
       "    <tr>\n",
       "      <th>639143</th>\n",
       "      <td>NP equation</td>\n",
       "      <td>-0.129936</td>\n",
       "      <td>-0.024946</td>\n",
       "      <td>0.159205</td>\n",
       "      <td>-0.040806</td>\n",
       "      <td>-0.045693</td>\n",
       "      <td>-0.044762</td>\n",
       "      <td>0.109142</td>\n",
       "      <td>-0.053680</td>\n",
       "      <td>0.043835</td>\n",
       "      <td>...</td>\n",
       "      <td>-0.008899</td>\n",
       "      <td>0.034635</td>\n",
       "      <td>0.045272</td>\n",
       "      <td>-0.079999</td>\n",
       "      <td>0.067197</td>\n",
       "      <td>0.020936</td>\n",
       "      <td>-0.077952</td>\n",
       "      <td>-0.003430</td>\n",
       "      <td>0.024837</td>\n",
       "      <td>0.026088</td>\n",
       "    </tr>\n",
       "    <tr>\n",
       "      <th>639144</th>\n",
       "      <td>smooth solid</td>\n",
       "      <td>-0.174145</td>\n",
       "      <td>-0.057076</td>\n",
       "      <td>0.236102</td>\n",
       "      <td>-0.035570</td>\n",
       "      <td>-0.018229</td>\n",
       "      <td>-0.043491</td>\n",
       "      <td>0.133631</td>\n",
       "      <td>-0.133570</td>\n",
       "      <td>0.044193</td>\n",
       "      <td>...</td>\n",
       "      <td>-0.051067</td>\n",
       "      <td>0.077367</td>\n",
       "      <td>0.070251</td>\n",
       "      <td>-0.104165</td>\n",
       "      <td>0.133944</td>\n",
       "      <td>0.035512</td>\n",
       "      <td>-0.139964</td>\n",
       "      <td>0.052482</td>\n",
       "      <td>0.029281</td>\n",
       "      <td>0.000241</td>\n",
       "    </tr>\n",
       "    <tr>\n",
       "      <th>639145</th>\n",
       "      <td>Lineshape analysis</td>\n",
       "      <td>-0.139385</td>\n",
       "      <td>-0.043156</td>\n",
       "      <td>0.233281</td>\n",
       "      <td>-0.045551</td>\n",
       "      <td>-0.058892</td>\n",
       "      <td>-0.098917</td>\n",
       "      <td>0.084661</td>\n",
       "      <td>-0.108649</td>\n",
       "      <td>0.045793</td>\n",
       "      <td>...</td>\n",
       "      <td>-0.015663</td>\n",
       "      <td>0.081699</td>\n",
       "      <td>0.078253</td>\n",
       "      <td>-0.159439</td>\n",
       "      <td>0.154132</td>\n",
       "      <td>0.018610</td>\n",
       "      <td>-0.120352</td>\n",
       "      <td>-0.016826</td>\n",
       "      <td>0.000990</td>\n",
       "      <td>-0.003160</td>\n",
       "    </tr>\n",
       "  </tbody>\n",
       "</table>\n",
       "<p>639146 rows × 65 columns</p>\n",
       "</div>"
      ],
      "text/plain": [
       "                                       entity         0         1         2  \\\n",
       "0                 higher dimensional manifold -0.040160 -0.977115  0.674561   \n",
       "1       globally distinguished representation -0.119682 -0.097797  0.175936   \n",
       "2                                      A like -0.374899 -0.051359  0.299906   \n",
       "3                                   type case -0.078717 -0.004304  0.104942   \n",
       "4                                      UJT RO -0.229235 -0.060061  0.360562   \n",
       "...                                       ...       ...       ...       ...   \n",
       "639141                         compute oracle -0.091289 -0.257443  0.295029   \n",
       "639142                             empty site -0.121642 -0.195255  0.439108   \n",
       "639143                            NP equation -0.129936 -0.024946  0.159205   \n",
       "639144                           smooth solid -0.174145 -0.057076  0.236102   \n",
       "639145                     Lineshape analysis -0.139385 -0.043156  0.233281   \n",
       "\n",
       "               3         4         5         6         7         8  ...  \\\n",
       "0      -0.275147 -0.272521 -0.168228  0.499957  0.515158  0.346035  ...   \n",
       "1      -0.012959 -0.030870 -0.044621  0.066730 -0.054203  0.020064  ...   \n",
       "2      -0.069462 -0.045523 -0.110750  0.243123 -0.132379  0.069445  ...   \n",
       "3       0.004519 -0.062624  0.008192  0.034231 -0.036199  0.002670  ...   \n",
       "4      -0.043691 -0.026552  0.075704  0.215773 -0.126771  0.088855  ...   \n",
       "...          ...       ...       ...       ...       ...       ...  ...   \n",
       "639141  0.029902 -0.132066 -0.282375  0.179305 -0.189810 -0.019033  ...   \n",
       "639142  0.056549  0.163553 -0.049834  0.239073 -0.049745 -0.038428  ...   \n",
       "639143 -0.040806 -0.045693 -0.044762  0.109142 -0.053680  0.043835  ...   \n",
       "639144 -0.035570 -0.018229 -0.043491  0.133631 -0.133570  0.044193  ...   \n",
       "639145 -0.045551 -0.058892 -0.098917  0.084661 -0.108649  0.045793  ...   \n",
       "\n",
       "              54        55        56        57        58        59        60  \\\n",
       "0      -0.308417  0.255880  0.175917 -0.001147  0.334485  0.332582 -0.181207   \n",
       "1      -0.008359  0.012235  0.075498 -0.085041  0.078165  0.024660 -0.084735   \n",
       "2      -0.184413  0.109576  0.183808 -0.288676  0.121918 -0.004692 -0.135005   \n",
       "3      -0.009738  0.034109  0.032710 -0.014242  0.081406  0.009557 -0.031643   \n",
       "4      -0.044169  0.008843  0.134973 -0.129087  0.117914  0.151015  0.003629   \n",
       "...          ...       ...       ...       ...       ...       ...       ...   \n",
       "639141 -0.088510  0.202646  0.369558  0.097367  0.096957 -0.071945 -0.301740   \n",
       "639142  0.161165  0.190312  0.296220 -0.032711  0.143677  0.045085 -0.163888   \n",
       "639143 -0.008899  0.034635  0.045272 -0.079999  0.067197  0.020936 -0.077952   \n",
       "639144 -0.051067  0.077367  0.070251 -0.104165  0.133944  0.035512 -0.139964   \n",
       "639145 -0.015663  0.081699  0.078253 -0.159439  0.154132  0.018610 -0.120352   \n",
       "\n",
       "              61        62        63  \n",
       "0       0.807521 -0.211791  0.248036  \n",
       "1      -0.005476 -0.007197 -0.014907  \n",
       "2      -0.054465  0.101525 -0.089477  \n",
       "3      -0.033400  0.017481  0.024278  \n",
       "4      -0.033489  0.106454 -0.020332  \n",
       "...          ...       ...       ...  \n",
       "639141 -0.019195 -0.208439  0.179664  \n",
       "639142 -0.025018 -0.030917  0.068896  \n",
       "639143 -0.003430  0.024837  0.026088  \n",
       "639144  0.052482  0.029281  0.000241  \n",
       "639145 -0.016826  0.000990 -0.003160  \n",
       "\n",
       "[639146 rows x 65 columns]"
      ]
     },
     "execution_count": 25,
     "metadata": {},
     "output_type": "execute_result"
    }
   ],
   "source": [
    "rebel_embeddings"
   ]
  },
  {
   "cell_type": "markdown",
   "id": "8ebc3d59-c725-447f-8c33-763bb9873113",
   "metadata": {},
   "source": [
    "# Get classes of entities by relation types"
   ]
  },
  {
   "cell_type": "code",
   "execution_count": 32,
   "id": "2965f0ce-5ba0-4de9-830e-9bca47e95f24",
   "metadata": {},
   "outputs": [],
   "source": [
    "def print_top_entities_for_relation(data, relation_type, entity_type='source'):\n",
    "    edges = data[data.edge.isin([relation_type])]\n",
    "    entities = list(edges[entity_type])\n",
    "    return entities"
   ]
  },
  {
   "cell_type": "code",
   "execution_count": 28,
   "id": "188175b8-4875-4e3d-a1d4-3c36ce6d68f8",
   "metadata": {},
   "outputs": [
    {
     "data": {
      "text/plain": [
       "7"
      ]
     },
     "execution_count": 28,
     "metadata": {},
     "output_type": "execute_result"
    }
   ],
   "source": [
    "len(pfn_rels.edge.unique())"
   ]
  },
  {
   "cell_type": "code",
   "execution_count": 29,
   "id": "28de2131-d4e8-4e60-8e1d-8b7772949efd",
   "metadata": {},
   "outputs": [
    {
     "data": {
      "text/plain": [
       "array(['Feature-of', 'Used-for', 'Compare', 'Hyponym-of', 'Evaluate-for',\n",
       "       'Conjunction', 'Part-of'], dtype=object)"
      ]
     },
     "execution_count": 29,
     "metadata": {},
     "output_type": "execute_result"
    }
   ],
   "source": [
    "pfn_rels.edge.unique()"
   ]
  },
  {
   "cell_type": "code",
   "execution_count": 33,
   "id": "61ee30ce-bed4-4850-aa6c-80d22b12dd48",
   "metadata": {},
   "outputs": [
    {
     "name": "stderr",
     "output_type": "stream",
     "text": [
      "\n",
      "  0%|          | 0/7 [00:00<?, ?it/s]\u001b[A\n",
      " 29%|██▊       | 2/7 [00:00<00:00, 14.60it/s]\u001b[A"
     ]
    },
    {
     "name": "stdout",
     "output_type": "stream",
     "text": [
      "Feature-of 82084\n",
      "Used-for 475887\n",
      "Compare 42617\n",
      "Hyponym-of 72829\n",
      "Evaluate-for 81030\n"
     ]
    },
    {
     "name": "stderr",
     "output_type": "stream",
     "text": [
      "\n",
      "100%|██████████| 7/7 [00:00<00:00, 21.96it/s]\u001b[A"
     ]
    },
    {
     "name": "stdout",
     "output_type": "stream",
     "text": [
      "Conjunction 196286\n",
      "Part-of 20439\n"
     ]
    },
    {
     "name": "stderr",
     "output_type": "stream",
     "text": [
      "\n"
     ]
    }
   ],
   "source": [
    "edge_type_entities = {}\n",
    "for unique_rel in tqdm(pfn_rels.edge.unique(), total=len(pfn_rels.edge.unique())):\n",
    "    edge_type_entities[unique_rel] = print_top_entities_for_relation(data=pfn_rels, relation_type=unique_rel)\n",
    "    print(unique_rel, len(edge_type_entities[unique_rel]))"
   ]
  },
  {
   "cell_type": "code",
   "execution_count": 36,
   "id": "166b5463-58e0-46d2-8988-91890c5b64ed",
   "metadata": {},
   "outputs": [
    {
     "data": {
      "text/plain": [
       "971172"
      ]
     },
     "execution_count": 36,
     "metadata": {},
     "output_type": "execute_result"
    }
   ],
   "source": [
    "pfn_rels.edge.value_counts().values.sum()"
   ]
  },
  {
   "cell_type": "markdown",
   "id": "c1f8406a-d0c6-4c24-a9cc-aacf543ecef2",
   "metadata": {},
   "source": [
    "# Predict pfn relations using LogReg"
   ]
  },
  {
   "cell_type": "code",
   "execution_count": 39,
   "id": "bf16395c-ce2f-4db2-88f6-8e583423bdd0",
   "metadata": {},
   "outputs": [],
   "source": [
    "pfn_embeddings = pd.read_pickle('./pfn_embeddings_w2v.pickle')"
   ]
  },
  {
   "cell_type": "code",
   "execution_count": 40,
   "id": "8057f18e-3285-479c-9b95-0aa46beac5a7",
   "metadata": {},
   "outputs": [],
   "source": [
    "from sklearn.linear_model import LogisticRegression\n",
    "\n"
   ]
  },
  {
   "cell_type": "code",
   "execution_count": 64,
   "id": "066b56ba-8107-4772-ac16-5569954c6b16",
   "metadata": {},
   "outputs": [
    {
     "name": "stdout",
     "output_type": "stream",
     "text": [
      "Before sample:  Feature-of 82084\n",
      "After sample:  Feature-of 4104\n",
      "Before sample:  Used-for 475887\n",
      "After sample:  Used-for 23794\n",
      "Before sample:  Compare 42617\n",
      "After sample:  Compare 2131\n",
      "Before sample:  Hyponym-of 72829\n",
      "After sample:  Hyponym-of 3641\n",
      "Before sample:  Evaluate-for 81030\n",
      "After sample:  Evaluate-for 4052\n",
      "Before sample:  Conjunction 196286\n",
      "After sample:  Conjunction 9814\n",
      "Before sample:  Part-of 20439\n",
      "After sample:  Part-of 1022\n"
     ]
    }
   ],
   "source": [
    "samples = []\n",
    "for rel in pfn_rels.edge.unique():\n",
    "    pfn_rel_type = pfn_rels[pfn_rels.edge==rel]\n",
    "    pfn_rel_type_negative = pfn_rels[~(pfn_rels.edge==rel)]\n",
    "    print('Before sample: ', rel, len(pfn_rel_type))\n",
    "    pfn_sample = pfn_rel_type.sample(frac=.05, replace = False, random_state=42)\n",
    "    pfn_sample_negative = pfn_rel_type_negative.sample(frac=.05, replace = False, random_state=42)\n",
    "    print('After sample: ', rel, len(pfn_sample))\n",
    "    samples.append(pfn_sample)\n",
    "    samples.append(pfn_sample_negative)"
   ]
  },
  {
   "cell_type": "code",
   "execution_count": 65,
   "id": "b9073bad-8649-48bd-ae02-91b670f96bd4",
   "metadata": {},
   "outputs": [],
   "source": [
    "test_edges_pfn = pd.concat(samples, axis=0)"
   ]
  },
  {
   "cell_type": "code",
   "execution_count": 66,
   "id": "2d0e61f7-cd16-4dc5-af09-6d8cb13bd96a",
   "metadata": {},
   "outputs": [
    {
     "data": {
      "text/html": [
       "<div>\n",
       "<style scoped>\n",
       "    .dataframe tbody tr th:only-of-type {\n",
       "        vertical-align: middle;\n",
       "    }\n",
       "\n",
       "    .dataframe tbody tr th {\n",
       "        vertical-align: top;\n",
       "    }\n",
       "\n",
       "    .dataframe thead th {\n",
       "        text-align: right;\n",
       "    }\n",
       "</style>\n",
       "<table border=\"1\" class=\"dataframe\">\n",
       "  <thead>\n",
       "    <tr style=\"text-align: right;\">\n",
       "      <th></th>\n",
       "      <th>source</th>\n",
       "      <th>target</th>\n",
       "      <th>edge</th>\n",
       "    </tr>\n",
       "  </thead>\n",
       "  <tbody>\n",
       "    <tr>\n",
       "      <th>182652</th>\n",
       "      <td>valence configuration space</td>\n",
       "      <td>complex energy shell model</td>\n",
       "      <td>Feature-of</td>\n",
       "    </tr>\n",
       "    <tr>\n",
       "      <th>620154</th>\n",
       "      <td>non decoupling mass logarithms</td>\n",
       "      <td>axial quark form factors</td>\n",
       "      <td>Feature-of</td>\n",
       "    </tr>\n",
       "    <tr>\n",
       "      <th>3695</th>\n",
       "      <td>Gallai Ramsey numbers</td>\n",
       "      <td>connected graphs</td>\n",
       "      <td>Feature-of</td>\n",
       "    </tr>\n",
       "    <tr>\n",
       "      <th>435013</th>\n",
       "      <td>dipole magnetic field</td>\n",
       "      <td>X ray counterpart</td>\n",
       "      <td>Feature-of</td>\n",
       "    </tr>\n",
       "    <tr>\n",
       "      <th>215006</th>\n",
       "      <td>ultrastrong coupling regime</td>\n",
       "      <td>polaritonic mode</td>\n",
       "      <td>Feature-of</td>\n",
       "    </tr>\n",
       "    <tr>\n",
       "      <th>...</th>\n",
       "      <td>...</td>\n",
       "      <td>...</td>\n",
       "      <td>...</td>\n",
       "    </tr>\n",
       "    <tr>\n",
       "      <th>990837</th>\n",
       "      <td>TBM</td>\n",
       "      <td>lepton mixing matrix</td>\n",
       "      <td>Used-for</td>\n",
       "    </tr>\n",
       "    <tr>\n",
       "      <th>41842</th>\n",
       "      <td>accuracy</td>\n",
       "      <td>approach achieves more efficient manipulation</td>\n",
       "      <td>Evaluate-for</td>\n",
       "    </tr>\n",
       "    <tr>\n",
       "      <th>748399</th>\n",
       "      <td>they provide a unifying framework</td>\n",
       "      <td>nonlinear traffic dynamics model</td>\n",
       "      <td>Used-for</td>\n",
       "    </tr>\n",
       "    <tr>\n",
       "      <th>83786</th>\n",
       "      <td>E1</td>\n",
       "      <td>extended emission line regions EELRs</td>\n",
       "      <td>Hyponym-of</td>\n",
       "    </tr>\n",
       "    <tr>\n",
       "      <th>477876</th>\n",
       "      <td>tools</td>\n",
       "      <td>mHealth solution</td>\n",
       "      <td>Used-for</td>\n",
       "    </tr>\n",
       "  </tbody>\n",
       "</table>\n",
       "<p>339909 rows × 3 columns</p>\n",
       "</div>"
      ],
      "text/plain": [
       "                                   source  \\\n",
       "182652        valence configuration space   \n",
       "620154     non decoupling mass logarithms   \n",
       "3695                Gallai Ramsey numbers   \n",
       "435013              dipole magnetic field   \n",
       "215006        ultrastrong coupling regime   \n",
       "...                                   ...   \n",
       "990837                                TBM   \n",
       "41842                            accuracy   \n",
       "748399  they provide a unifying framework   \n",
       "83786                                  E1   \n",
       "477876                              tools   \n",
       "\n",
       "                                               target          edge  \n",
       "182652                     complex energy shell model    Feature-of  \n",
       "620154                       axial quark form factors    Feature-of  \n",
       "3695                                 connected graphs    Feature-of  \n",
       "435013                              X ray counterpart    Feature-of  \n",
       "215006                               polaritonic mode    Feature-of  \n",
       "...                                               ...           ...  \n",
       "990837                           lepton mixing matrix      Used-for  \n",
       "41842   approach achieves more efficient manipulation  Evaluate-for  \n",
       "748399               nonlinear traffic dynamics model      Used-for  \n",
       "83786            extended emission line regions EELRs    Hyponym-of  \n",
       "477876                               mHealth solution      Used-for  \n",
       "\n",
       "[339909 rows x 3 columns]"
      ]
     },
     "execution_count": 66,
     "metadata": {},
     "output_type": "execute_result"
    }
   ],
   "source": [
    "test_edges_pfn"
   ]
  },
  {
   "cell_type": "code",
   "execution_count": 69,
   "id": "3eedd759-ba16-4ba2-991e-6ed484a4e0c7",
   "metadata": {},
   "outputs": [
    {
     "data": {
      "text/plain": [
       "method                      5447\n",
       "approach                    4139\n",
       "model                       2663\n",
       "it                          2373\n",
       "algorithm                   1835\n",
       "methods                     1572\n",
       "accuracy                    1497\n",
       "framework                   1070\n",
       "technique                   1021\n",
       "models                       840\n",
       "algorithms                   732\n",
       "techniques                   684\n",
       "approaches                   659\n",
       "It                           618\n",
       "scheme                       589\n",
       "procedure                    523\n",
       "system                       481\n",
       "methodology                  468\n",
       "theory                       448\n",
       "formalism                    416\n",
       "robustness                   373\n",
       "solution                     362\n",
       "mechanism                    326\n",
       "complexity                   310\n",
       "datasets                     290\n",
       "strategy                     286\n",
       "dataset                      274\n",
       "they                         264\n",
       "formula                      261\n",
       "one                          238\n",
       "computational complexity     234\n",
       "network                      224\n",
       "architecture                 222\n",
       "those                        216\n",
       "convergence                  207\n",
       "precision                    207\n",
       "temperature                  206\n",
       "data                         202\n",
       "classification accuracy      201\n",
       "this                         189\n",
       "efficiency                   189\n",
       "sensitivity                  188\n",
       "magnetic field               179\n",
       "benchmark datasets           178\n",
       "them                         177\n",
       "computational cost           174\n",
       "images                       173\n",
       "numerical simulations        172\n",
       "neural networks              163\n",
       "construction                 162\n",
       "Name: source, dtype: int64"
      ]
     },
     "execution_count": 69,
     "metadata": {},
     "output_type": "execute_result"
    }
   ],
   "source": [
    "test_edges_pfn.source.value_counts().head(50)"
   ]
  },
  {
   "cell_type": "code",
   "execution_count": 99,
   "id": "d84c8f69-4e6c-44c5-bb49-9ec7f3c9354f",
   "metadata": {},
   "outputs": [
    {
     "data": {
      "text/plain": [
       "method                       3827\n",
       "approach                     3000\n",
       "model                        1966\n",
       "it                           1559\n",
       "algorithm                    1246\n",
       "methods                      1207\n",
       "framework                     816\n",
       "technique                     806\n",
       "models                        618\n",
       "techniques                    550\n",
       "algorithms                    549\n",
       "approaches                    547\n",
       "It                            441\n",
       "procedure                     431\n",
       "scheme                        415\n",
       "methodology                   367\n",
       "theory                        367\n",
       "formalism                     352\n",
       "system                        337\n",
       "solution                      271\n",
       "mechanism                     270\n",
       "strategy                      214\n",
       "formula                       210\n",
       "they                          189\n",
       "data                          162\n",
       "dataset                       160\n",
       "network                       156\n",
       "this                          152\n",
       "architecture                  146\n",
       "accuracy                      142\n",
       "construction                  140\n",
       "temperature                   135\n",
       "machine learning              135\n",
       "images                        133\n",
       "numerical simulations         130\n",
       "tool                          129\n",
       "strategies                    129\n",
       "them                          127\n",
       "analysis                      127\n",
       "features                      122\n",
       "neural networks               119\n",
       "solutions                     119\n",
       "Monte Carlo simulations       118\n",
       "tools                         112\n",
       "simulations                   111\n",
       "density functional theory     103\n",
       "protocol                      101\n",
       "code                           94\n",
       "schemes                        93\n",
       "metric                         92\n",
       "Name: source, dtype: int64"
      ]
     },
     "execution_count": 99,
     "metadata": {},
     "output_type": "execute_result"
    }
   ],
   "source": [
    "used_for_edges.source.value_counts().head(50)"
   ]
  },
  {
   "cell_type": "code",
   "execution_count": 97,
   "id": "631af177-79be-486c-95e1-72bd59b3df2a",
   "metadata": {},
   "outputs": [],
   "source": [
    "used_for_edges = test_edges_pfn[test_edges_pfn.edge.isin(['Used-for', 'Part-of', 'Conjunction'])]\n",
    "used_for_edges = used_for_edges.drop_duplicates()"
   ]
  },
  {
   "cell_type": "code",
   "execution_count": 98,
   "id": "b41e89ba-13e8-49d9-bfb9-5b1dd9ad0db2",
   "metadata": {},
   "outputs": [
    {
     "data": {
      "text/html": [
       "<div>\n",
       "<style scoped>\n",
       "    .dataframe tbody tr th:only-of-type {\n",
       "        vertical-align: middle;\n",
       "    }\n",
       "\n",
       "    .dataframe tbody tr th {\n",
       "        vertical-align: top;\n",
       "    }\n",
       "\n",
       "    .dataframe thead th {\n",
       "        text-align: right;\n",
       "    }\n",
       "</style>\n",
       "<table border=\"1\" class=\"dataframe\">\n",
       "  <thead>\n",
       "    <tr style=\"text-align: right;\">\n",
       "      <th></th>\n",
       "      <th>source</th>\n",
       "      <th>target</th>\n",
       "      <th>edge</th>\n",
       "    </tr>\n",
       "  </thead>\n",
       "  <tbody>\n",
       "    <tr>\n",
       "      <th>882716</th>\n",
       "      <td>Axion Like Particles ALPs</td>\n",
       "      <td>CP problem</td>\n",
       "      <td>Used-for</td>\n",
       "    </tr>\n",
       "    <tr>\n",
       "      <th>867616</th>\n",
       "      <td>compatible finite element method</td>\n",
       "      <td>It</td>\n",
       "      <td>Used-for</td>\n",
       "    </tr>\n",
       "    <tr>\n",
       "      <th>964249</th>\n",
       "      <td>holistic approaches</td>\n",
       "      <td>managing socio ecological systems</td>\n",
       "      <td>Used-for</td>\n",
       "    </tr>\n",
       "    <tr>\n",
       "      <th>567609</th>\n",
       "      <td>monolayers</td>\n",
       "      <td>sensors</td>\n",
       "      <td>Used-for</td>\n",
       "    </tr>\n",
       "    <tr>\n",
       "      <th>535757</th>\n",
       "      <td>pole on detection</td>\n",
       "      <td>it</td>\n",
       "      <td>Used-for</td>\n",
       "    </tr>\n",
       "    <tr>\n",
       "      <th>...</th>\n",
       "      <td>...</td>\n",
       "      <td>...</td>\n",
       "      <td>...</td>\n",
       "    </tr>\n",
       "    <tr>\n",
       "      <th>90160</th>\n",
       "      <td>QCD sum rules approach</td>\n",
       "      <td>nuclear matter</td>\n",
       "      <td>Used-for</td>\n",
       "    </tr>\n",
       "    <tr>\n",
       "      <th>772208</th>\n",
       "      <td>incompressible Mott like photon fluid</td>\n",
       "      <td>corner space renormalization methods</td>\n",
       "      <td>Conjunction</td>\n",
       "    </tr>\n",
       "    <tr>\n",
       "      <th>990837</th>\n",
       "      <td>TBM</td>\n",
       "      <td>lepton mixing matrix</td>\n",
       "      <td>Used-for</td>\n",
       "    </tr>\n",
       "    <tr>\n",
       "      <th>748399</th>\n",
       "      <td>they provide a unifying framework</td>\n",
       "      <td>nonlinear traffic dynamics model</td>\n",
       "      <td>Used-for</td>\n",
       "    </tr>\n",
       "    <tr>\n",
       "      <th>477876</th>\n",
       "      <td>tools</td>\n",
       "      <td>mHealth solution</td>\n",
       "      <td>Used-for</td>\n",
       "    </tr>\n",
       "  </tbody>\n",
       "</table>\n",
       "<p>208914 rows × 3 columns</p>\n",
       "</div>"
      ],
      "text/plain": [
       "                                       source  \\\n",
       "882716              Axion Like Particles ALPs   \n",
       "867616       compatible finite element method   \n",
       "964249                    holistic approaches   \n",
       "567609                             monolayers   \n",
       "535757                      pole on detection   \n",
       "...                                       ...   \n",
       "90160                  QCD sum rules approach   \n",
       "772208  incompressible Mott like photon fluid   \n",
       "990837                                    TBM   \n",
       "748399      they provide a unifying framework   \n",
       "477876                                  tools   \n",
       "\n",
       "                                      target         edge  \n",
       "882716                            CP problem     Used-for  \n",
       "867616                                    It     Used-for  \n",
       "964249     managing socio ecological systems     Used-for  \n",
       "567609                               sensors     Used-for  \n",
       "535757                                    it     Used-for  \n",
       "...                                      ...          ...  \n",
       "90160                         nuclear matter     Used-for  \n",
       "772208  corner space renormalization methods  Conjunction  \n",
       "990837                  lepton mixing matrix     Used-for  \n",
       "748399      nonlinear traffic dynamics model     Used-for  \n",
       "477876                      mHealth solution     Used-for  \n",
       "\n",
       "[208914 rows x 3 columns]"
      ]
     },
     "execution_count": 98,
     "metadata": {},
     "output_type": "execute_result"
    }
   ],
   "source": [
    "used_for_edges"
   ]
  },
  {
   "cell_type": "code",
   "execution_count": 113,
   "id": "5c9446ff-281f-402f-87fc-dc80727c3315",
   "metadata": {},
   "outputs": [],
   "source": [
    "pfn_rels_no_dup = pfn_rels.drop_duplicates()\n",
    "pfn_graph = nx.from_pandas_edgelist(pfn_rels_no_dup, \"source\", \"target\", \n",
    "                          edge_attr=True, create_using=nx.MultiDiGraph())"
   ]
  },
  {
   "cell_type": "code",
   "execution_count": 67,
   "id": "f01c8e76-488f-4bb3-8d23-6382aa7dec82",
   "metadata": {},
   "outputs": [],
   "source": [
    "from pyvis.network import Network"
   ]
  },
  {
   "cell_type": "code",
   "execution_count": 101,
   "id": "bece5be2-904a-450a-9839-d7b01db9129f",
   "metadata": {},
   "outputs": [],
   "source": [
    "net = Network(height=\"75%\", width=\"75%\", notebook=True, directed=True)\n",
    "pfn_rels_no_dup = pfn_rels.drop_duplicates()\n",
    "pfn_graph = nx.from_pandas_edgelist(pfn_rels_no_dup, \"source\", \"target\", \n",
    "                          edge_attr=True, create_using=nx.MultiDiGraph())\n",
    "H = pfn_graph.subgraph(list(pfn_graph.predecessors('metric'))+list(pfn_graph.successors('metric'))+['metric'])\n",
    "print(nx.info(H))\n",
    "net.from_nx(H)\n",
    "net.save_graph('Used_for_pfn_graph.html')"
   ]
  },
  {
   "cell_type": "code",
   "execution_count": 105,
   "id": "7e1faa58-b241-40ef-b73d-72da33ecddc4",
   "metadata": {},
   "outputs": [],
   "source": [
    "net.save_graph('Used_for_pfn_graph.html')"
   ]
  },
  {
   "cell_type": "code",
   "execution_count": 125,
   "id": "e81da93b-1565-4b7a-9b96-7876455431c0",
   "metadata": {},
   "outputs": [
    {
     "name": "stdout",
     "output_type": "stream",
     "text": [
      "Feature-of\n",
      "Used-for\n",
      "                         source              target      edge\n",
      "691985  Monte Carlo simulations  critical exponents  Used-for\n",
      "Compare\n",
      "                         source                  target     edge\n",
      "993376  Monte Carlo simulations  Boltzmann distribution  Compare\n",
      "Hyponym-of\n",
      "                         source             target        edge\n",
      "502129  Monte Carlo simulations  search parameters  Hyponym-of\n",
      "Evaluate-for\n",
      "                        source                                target  \\\n",
      "76502  Monte Carlo simulations  light ions identification techniques   \n",
      "\n",
      "               edge  \n",
      "76502  Evaluate-for  \n",
      "Conjunction\n",
      "                         source            target         edge\n",
      "419063  Monte Carlo simulations  scaling analysis  Conjunction\n",
      "Part-of\n"
     ]
    }
   ],
   "source": [
    "for rel in pfn_rels.edge.unique():\n",
    "    print(rel)\n",
    "    try:\n",
    "        print(pfn_rels_no_dup[((pfn_rels_no_dup.edge==rel)&(pfn_rels_no_dup.source=='Monte Carlo simulations'))].sample(n=1, replace = False, random_state=43))\n",
    "    except Exception as e:\n",
    "        pass"
   ]
  },
  {
   "cell_type": "code",
   "execution_count": 130,
   "id": "dcc5b0af-117e-4c96-8740-3831430fc706",
   "metadata": {},
   "outputs": [
    {
     "data": {
      "text/html": [
       "<div>\n",
       "<style scoped>\n",
       "    .dataframe tbody tr th:only-of-type {\n",
       "        vertical-align: middle;\n",
       "    }\n",
       "\n",
       "    .dataframe tbody tr th {\n",
       "        vertical-align: top;\n",
       "    }\n",
       "\n",
       "    .dataframe thead th {\n",
       "        text-align: right;\n",
       "    }\n",
       "</style>\n",
       "<table border=\"1\" class=\"dataframe\">\n",
       "  <thead>\n",
       "    <tr style=\"text-align: right;\">\n",
       "      <th></th>\n",
       "      <th>source</th>\n",
       "      <th>target</th>\n",
       "      <th>edge</th>\n",
       "    </tr>\n",
       "  </thead>\n",
       "  <tbody>\n",
       "    <tr>\n",
       "      <th>51449</th>\n",
       "      <td>square root of the susceptibility</td>\n",
       "      <td>scaling analysis</td>\n",
       "      <td>Used-for</td>\n",
       "    </tr>\n",
       "    <tr>\n",
       "      <th>51451</th>\n",
       "      <td>numerical calculations</td>\n",
       "      <td>scaling analysis</td>\n",
       "      <td>Used-for</td>\n",
       "    </tr>\n",
       "    <tr>\n",
       "      <th>1081678</th>\n",
       "      <td>estimates</td>\n",
       "      <td>scaling analysis</td>\n",
       "      <td>Conjunction</td>\n",
       "    </tr>\n",
       "    <tr>\n",
       "      <th>205113</th>\n",
       "      <td>histogram method</td>\n",
       "      <td>scaling analysis</td>\n",
       "      <td>Used-for</td>\n",
       "    </tr>\n",
       "    <tr>\n",
       "      <th>821149</th>\n",
       "      <td>leading order pQCD calculation</td>\n",
       "      <td>scaling analysis</td>\n",
       "      <td>Compare</td>\n",
       "    </tr>\n",
       "    <tr>\n",
       "      <th>685610</th>\n",
       "      <td>mean thickness</td>\n",
       "      <td>scaling analysis</td>\n",
       "      <td>Conjunction</td>\n",
       "    </tr>\n",
       "    <tr>\n",
       "      <th>115372</th>\n",
       "      <td>computer simulations</td>\n",
       "      <td>scaling analysis</td>\n",
       "      <td>Conjunction</td>\n",
       "    </tr>\n",
       "    <tr>\n",
       "      <th>115378</th>\n",
       "      <td>network topology</td>\n",
       "      <td>scaling analysis</td>\n",
       "      <td>Conjunction</td>\n",
       "    </tr>\n",
       "    <tr>\n",
       "      <th>419063</th>\n",
       "      <td>Monte Carlo simulations</td>\n",
       "      <td>scaling analysis</td>\n",
       "      <td>Conjunction</td>\n",
       "    </tr>\n",
       "    <tr>\n",
       "      <th>1035460</th>\n",
       "      <td>they</td>\n",
       "      <td>scaling analysis</td>\n",
       "      <td>Used-for</td>\n",
       "    </tr>\n",
       "  </tbody>\n",
       "</table>\n",
       "</div>"
      ],
      "text/plain": [
       "                                    source            target         edge\n",
       "51449    square root of the susceptibility  scaling analysis     Used-for\n",
       "51451               numerical calculations  scaling analysis     Used-for\n",
       "1081678                          estimates  scaling analysis  Conjunction\n",
       "205113                    histogram method  scaling analysis     Used-for\n",
       "821149      leading order pQCD calculation  scaling analysis      Compare\n",
       "685610                      mean thickness  scaling analysis  Conjunction\n",
       "115372                computer simulations  scaling analysis  Conjunction\n",
       "115378                    network topology  scaling analysis  Conjunction\n",
       "419063             Monte Carlo simulations  scaling analysis  Conjunction\n",
       "1035460                               they  scaling analysis     Used-for"
      ]
     },
     "execution_count": 130,
     "metadata": {},
     "output_type": "execute_result"
    }
   ],
   "source": [
    "pfn_rels_no_dup[pfn_rels_no_dup['target']=='scaling analysis']"
   ]
  },
  {
   "cell_type": "code",
   "execution_count": null,
   "id": "d78c3ee4-9c96-45ea-ac64-38f9730702f0",
   "metadata": {},
   "outputs": [],
   "source": []
  }
 ],
 "metadata": {
  "kernelspec": {
   "display_name": "Python [conda env:.conda-ent_rel_env]",
   "language": "python",
   "name": "conda-env-.conda-ent_rel_env-py"
  },
  "language_info": {
   "codemirror_mode": {
    "name": "ipython",
    "version": 3
   },
   "file_extension": ".py",
   "mimetype": "text/x-python",
   "name": "python",
   "nbconvert_exporter": "python",
   "pygments_lexer": "ipython3",
   "version": "3.8.13"
  }
 },
 "nbformat": 4,
 "nbformat_minor": 5
}
